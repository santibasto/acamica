{
 "cells": [
  {
   "cell_type": "markdown",
   "metadata": {
    "colab_type": "text",
    "id": "GEFRqVgwU4TH"
   },
   "source": [
    "# Probabilidad y Estadística\n",
    "\n",
    "El objetivo del siguiente notebook es afianzar algunos conceptos de Probabilidad y, de paso, empezar a ver cómo se hacen gráficos con Matplotlib, una nueva librería que veremos más en detalle en la próxima bitácora y encuentro. Por ahora, solamente tienen que instalarla y correr las celdas. ¡No te preocupes si no entiendes lo que hacen esas celdas! Lo importante es que prestes atención a sus resultados.\n",
    "\n",
    "## 1. Distribuciones de probabilidad\n",
    "\n",
    "El concepto de distribución de probabilidad es un concepto central en probabilidad y estadística y, por lo tanto, hay mucho para decir. Nos limitamos acá a los puntos más importantes.\n",
    "\n",
    "\n",
    "### 1.1 Distrubución Uniforme Discreta\n",
    "\n",
    "Comencemos por un ejemplo: un dado de seis caras. La probabilidad de que al tirar el dado *salga* una cara es $1/6$. Si graficamos la probabilidad para cada resultado posible de tirar un dado, obtendríamos un gráfico como el siguiente:"
   ]
  },
  {
   "cell_type": "code",
   "execution_count": 1,
   "metadata": {
    "colab": {},
    "colab_type": "code",
    "id": "J-fHqWnzU4TR"
   },
   "outputs": [],
   "source": [
    "import numpy as np\n",
    "import matplotlib.pyplot as plt"
   ]
  },
  {
   "cell_type": "code",
   "execution_count": 2,
   "metadata": {
    "colab": {},
    "colab_type": "code",
    "id": "VSbq4R-aU4Tt"
   },
   "outputs": [
    {
     "data": {
      "image/png": "[encoded data removed]",
      "text/plain": [
       "<Figure size 432x288 with 1 Axes>"
      ]
     },
     "metadata": {
      "needs_background": "light"
     },
     "output_type": "display_data"
    }
   ],
   "source": [
    "valores = np.arange(1,7)\n",
    "probas = np.zeros(6) + 1/6\n",
    "plt.bar(valores, probas)\n",
    "plt.title('Distribución de probabilidad uniforme: lanzamiento de un dado')\n",
    "# plt.savefig('distribucion_dado.png', dpi = 400)\n",
    "plt.show()"
   ]
  },
  {
   "cell_type": "markdown",
   "metadata": {
    "colab_type": "text",
    "id": "Hl-vXlaCU4T_"
   },
   "source": [
    "En este caso, decimos que la distribución de probabilidad es *uniforme discreta*, ya que le asigna la misma probabilidad a los seis valores que pueden salir al tirar el dado. Si el dado estuviera cargado, ya no sería uniforme.\n",
    "\n",
    "**Algunos detalles**:\n",
    "1. El resultado de tirar un dado es un ejemplo de una *variable aleatoria*.\n",
    "2. En el caso del dado, la variable aleatoria puede tomar valores *discretos* y *acotados* (limitados): 1, 2, 3, 4, 5 y 6\n",
    "3. Existen variables aleatorias donde los posibles valores que puede tomar son continuos y no acotados. Veremos la distribución más famosa de ellas a continuación."
   ]
  },
  {
   "cell_type": "markdown",
   "metadata": {
    "colab_type": "text",
    "id": "mIXL9A1yU4UE"
   },
   "source": [
    "### 1.2 Distribución Normal o Gaussiana\n",
    "\n",
    "La distribución normal o gaussiana debe ser la distribución más famosa dentro de las distribuciones. Es una distribución de variable continua y aparece en una infinidad de ámbitos de la ciencia. Muchas variables asociadas a fenómenos naturales siguen una distribución gaussiana; un ejemplo típico es la estatura de las personas. La forma que tiene esta distribución está dada por la siguiente fórmula:\n",
    "\n",
    "$$f(x|\\mu, \\sigma^2)=\\frac{1}{\\sqrt{2 \\pi \\sigma^2}}e^{\\frac{-(x - \\mu)^2}{2\\sigma^2}}$$\n",
    "\n",
    "¡No te asustes si no la entiendes! Durante el encuentro, veremos más en detalle algunos aspectos de esta distribución. Pero es importante resaltar que tiene sólo dos parámetros: su valor medio $\\mu$ y su desviacíon estándar $\\sigma$. Estos valores son *teóricos*, es decir, son propios de la distribución de probabilidad. \n",
    "\n",
    "Recomendamos entrar en la página de Wikipedia de la [Distribución Normal](https://es.wikipedia.org/wiki/Distribuci%C3%B3n_normal) y prestar atención al primer gráfico - dónde podrán ver la forma teórica de la distribución - y a la sección \"Propiedades\".\n",
    "\n",
    "\n",
    "**Distribución Normal en NumPy**\n",
    "\n",
    "Como mencionamos en el encuentro anterior, NumPy nos provee de herramientas para generar valores aleatorios de distribuciones. A continuación generamos, usando `np.random.normal()`, muestras de dos distribuciones normales, con el mismo valor medio pero distinta desviación estándar. **Consultar** la ayuda de la función para entender bien qué hace."
   ]
  },
  {
   "cell_type": "code",
   "execution_count": 3,
   "metadata": {
    "colab": {},
    "colab_type": "code",
    "id": "mnQ6ZwhAU4UJ",
    "scrolled": true
   },
   "outputs": [
    {
     "name": "stdout",
     "output_type": "stream",
     "text": [
      "[-1.78383142e+00  6.06859790e+00  4.44144292e-01  3.33779374e+00\n",
      "  4.62182723e+00 -1.61150869e+00  1.47653207e+00  6.22061176e+00\n",
      " -6.29494568e+00  2.87395834e+00 -5.30671151e-01  7.37181538e+00\n",
      " -7.20478931e+00  7.57161968e+00  9.58513944e+00 -6.64858514e+00\n",
      "  4.65390899e-01  9.81814153e+00 -7.98191991e+00 -3.82845317e+00\n",
      "  3.52372354e+00  5.45088542e-01  2.78534341e-01  2.30769597e+00\n",
      "  1.02540170e+01 -5.39574009e+00 -6.75754864e+00 -3.24777777e+00\n",
      "  7.60025004e-01 -5.70816359e+00  6.91109207e-01 -1.10151613e+00\n",
      "  8.89469527e+00  5.31349149e+00 -2.50097955e+00  5.47668336e+00\n",
      "  2.13964936e+00  2.21935059e+00  5.28966064e+00 -3.82899781e+00\n",
      "  2.99192348e+00  9.88433856e-01 -1.99296902e+00  2.46888166e+00\n",
      "  6.80961778e+00  3.26291342e+00  1.22563619e+01  1.76885661e+00\n",
      "  4.00925546e-01  8.47884681e+00  4.55090631e-01  9.10095942e-01\n",
      "  2.19699172e+00  2.09136236e+00 -6.19963358e-01  1.73934818e+00\n",
      "  1.07723299e-02 -9.97817621e+00 -3.97063387e+00  3.19619413e+00\n",
      "  5.91249461e+00 -1.70121920e+00  6.26835899e+00  2.14747127e+00\n",
      "  2.97201547e-01  5.44334522e+00  7.49533745e+00 -3.12519242e+00\n",
      "  5.50984490e+00  6.29840663e+00  2.42809403e+00  1.08124105e+01\n",
      "  1.33145787e-01  6.45535476e+00 -7.96309422e-01  1.05412688e+01\n",
      "  5.85286434e-02 -6.49066695e+00 -1.99944767e+00  6.49095764e-01\n",
      "  4.89726085e+00  5.71602571e+00 -2.15163772e+00 -3.86487110e-01\n",
      "  7.75735307e-01 -4.71531010e+00 -9.61121960e-01  1.01683093e+01\n",
      "  7.77733674e+00  9.57082757e+00 -8.49168742e+00  7.88007483e+00\n",
      " -1.81432736e+00  8.32523551e+00  6.88378256e-01 -1.15951360e+00\n",
      " -2.53093648e+00  3.75273175e+00 -1.43469523e+00  9.99394127e+00\n",
      "  4.37939776e+00  1.31032646e+01  6.29118365e+00 -9.50285832e+00\n",
      " -5.12616973e+00 -3.22261939e-01  5.39900669e+00 -3.33560570e+00\n",
      "  1.90231273e+00  2.44195874e+00  9.21644056e+00  1.03872429e+01\n",
      "  4.14593599e+00 -2.08685092e+00  1.76826448e+00  1.20061850e+01\n",
      " -3.49987032e+00 -9.56770287e-01 -8.82645460e+00 -9.55471026e-02\n",
      " -4.13158514e+00 -1.36110223e+00  1.38400443e+00  4.55824265e+00\n",
      "  2.56408639e+00  9.46785797e+00  6.67497685e-01  3.01741777e+00\n",
      " -9.49341424e+00  1.90284690e-01 -5.75401156e+00 -5.57894456e+00\n",
      " -1.68821768e-01 -2.97553397e+00  2.97409443e+00  7.19944465e-01\n",
      "  2.10750432e+00  6.83007928e+00  3.56359866e+00  6.52078235e+00\n",
      "  2.20610760e+00 -1.57049460e+00  6.02955845e+00 -1.20807023e+01\n",
      " -3.96402585e+00  7.70951462e+00  1.25467833e+01  1.62974657e+00\n",
      "  6.13672404e+00 -9.65081040e+00  3.11198364e+00  1.52986660e+00\n",
      "  1.09995892e+00 -1.23177540e+00  2.97376829e+00  2.24160878e-01\n",
      " -1.99310689e+00  3.11546642e+00  1.08689037e+00  1.41875230e+01\n",
      "  1.48073070e+00  5.59323234e+00 -8.66568023e-01 -1.41246301e-02\n",
      "  3.23941697e-01  6.57575529e+00 -3.70633774e-01  7.61914935e+00\n",
      " -5.35203998e-01  3.86452971e+00  1.82630252e-01  6.63124223e+00\n",
      "  2.26973590e+00  7.34410451e+00  1.55272539e+00  3.10975312e+00\n",
      "  4.54027144e-01 -8.55165921e-01  6.69530784e+00 -4.70704707e+00\n",
      " -1.57219734e+00 -3.03537831e+00 -5.50459666e-01  1.84726668e+00\n",
      "  4.70955504e+00  5.93705774e+00 -1.82599238e-01  5.84448117e+00\n",
      "  5.69550506e+00 -6.02630746e-02  2.40082950e+00  7.32194468e+00\n",
      "  7.04913390e+00  9.51739159e+00  1.22476994e+01 -2.23234867e+00\n",
      "  1.40462363e+01  1.08960889e+01  2.78895470e+00  1.07954597e+01\n",
      "  5.11533000e+00 -3.00143223e+00  4.40391877e+00 -6.71006279e+00\n",
      "  6.31661724e+00  3.16644535e+00 -3.05199820e+00  6.85772928e+00\n",
      "  8.05287871e+00  1.81480559e+00  1.79063110e+00 -5.66281493e+00\n",
      " -1.71542836e+00  4.12934552e+00 -1.69400742e+00  5.27515035e+00\n",
      "  8.42170707e+00 -1.55153837e+00 -7.15136469e+00  4.42442233e+00\n",
      "  7.23942464e-01  1.44959508e+01  9.20507184e+00  5.54550295e+00\n",
      " -3.37497495e+00 -2.14068537e+00 -2.47700214e+00  1.09961758e+01\n",
      "  9.82760445e+00 -9.89245744e-01  1.06750449e+01 -7.27814046e+00\n",
      "  8.29862310e+00 -5.22114911e+00 -2.06226360e+00 -5.20884779e+00\n",
      "  8.99034698e-01  4.73185201e+00 -6.14599316e+00  2.07267619e+00\n",
      "  2.78550014e+00 -5.87760950e+00 -2.22524202e-01  3.12417440e+00\n",
      " -6.40867328e-01  2.45733722e+00  8.88649854e+00 -1.76107299e+00\n",
      " -2.40768613e-02  1.04766614e+01 -2.53983363e+00  6.04875738e+00\n",
      "  3.76676352e+00 -7.59583336e-01  2.21707892e+00 -4.09974726e+00\n",
      " -2.07019447e+00  1.24433366e+01 -1.08884606e+01  3.63671173e+00\n",
      "  5.90673964e+00  7.25854237e+00  5.71351674e+00  2.21596167e-03\n",
      "  5.92552063e+00  8.66146004e+00  1.79580071e+00  1.14843129e+00\n",
      "  7.08501443e+00 -7.63861281e+00 -4.49652456e+00  7.69989780e+00\n",
      " -2.67606901e+00  3.23697477e+00 -2.83481190e+00  3.13194081e+00\n",
      "  8.55166018e+00 -6.33115452e+00  6.45386663e-01  1.02219895e+01\n",
      "  1.08220438e+00 -1.42014135e+00  4.27754601e+00 -3.27118320e+00\n",
      "  5.01776058e+00  6.50420882e+00  1.58610790e+00  5.91524915e+00\n",
      "  6.34494612e+00 -8.14263418e-01 -6.65897579e-01 -1.46075644e+00\n",
      "  4.99050882e+00 -1.48634977e+00 -9.05367354e+00 -3.22725633e-01\n",
      "  3.88440817e+00 -7.33302883e+00  6.08563082e+00  6.64893405e+00\n",
      "  3.53382088e+00  6.82400768e+00  3.11476496e+00  5.61466860e+00\n",
      "  4.76619747e+00 -7.68572187e-01  5.77656760e+00 -3.88327766e+00\n",
      "  1.17032930e+01  2.34693587e+00  1.30739842e+01  1.55515104e+00\n",
      "  1.61980370e+00  4.59469432e-01  2.78544013e+00  7.64025974e+00\n",
      "  1.03185449e+01  6.62863210e+00  5.74744201e+00 -3.60805267e+00\n",
      "  1.45816057e+01 -5.50798448e+00 -3.63079927e+00 -3.30885094e+00\n",
      "  1.49950861e+00  8.56113303e+00  2.20491712e+00  2.91461102e+00\n",
      "  1.43318479e+01  1.14966780e+00 -1.30954956e-01 -3.83842553e+00\n",
      "  7.74148560e+00  6.09250210e-02 -9.42454416e-01 -1.57425219e+00\n",
      " -1.00787857e+01 -3.90769511e+00 -2.50467624e+00  3.71498465e-01\n",
      "  7.36812698e-01  3.12652270e+00  4.90578932e+00  9.45825345e-01\n",
      " -3.60639507e-01  4.63172560e+00  4.31328403e-01  1.07371528e+00\n",
      " -7.33806836e+00 -7.78437214e+00  1.21979062e-01 -4.34315228e-01\n",
      " -1.40720894e+00  1.25589177e+01 -8.06854169e-01 -8.31992556e+00\n",
      " -1.08475541e+01  4.56722870e-01 -4.17597591e-01  7.60686879e-01\n",
      " -1.54813926e+00  7.26441347e+00  2.77448519e+00  4.87323019e+00\n",
      " -1.82505802e+00  8.50315333e+00  2.00173097e+00  4.73896319e+00\n",
      "  6.31540946e+00 -3.97376910e+00  1.53377706e+00  6.64899817e+00\n",
      "  8.67674019e+00 -4.85869742e+00 -4.81054884e+00  4.92782419e+00\n",
      "  1.00983447e+01  3.13423656e+00  3.81357462e+00  4.02788785e+00\n",
      " -7.33456164e+00 -2.22682166e-01  3.54483510e+00 -3.61612176e+00\n",
      "  6.30445616e+00  1.37279426e+00  4.14102968e-01 -1.89611057e+00\n",
      "  9.64049882e-01  6.00731988e+00 -4.36374707e-01  6.54605792e+00\n",
      " -2.92421194e+00 -4.30127013e+00 -2.30004233e+00  1.00365749e+01\n",
      "  3.89027468e+00  1.21956271e+01 -5.09149856e+00  1.39972780e+00] [ 1.97808974e+00  7.33852992e-01  4.40458989e+00 -2.27125233e-01\n",
      "  1.91996881e-01  2.64000133e+00  4.78920550e+00  2.13243017e+00\n",
      "  2.67063013e+00 -1.31156741e+00  2.59123157e+00  2.45093949e-02\n",
      "  2.32893329e+00  2.96872178e+00  4.30988560e+00 -7.44399000e-02\n",
      "  7.43604498e-01  4.81451529e+00 -7.12646401e-01  2.73945701e+00\n",
      "  2.68536207e+00  2.39052905e+00  3.47442997e+00  5.73755653e-01\n",
      "  1.79690936e+00  4.50111421e+00  2.73652017e+00  1.77404813e+00\n",
      "  5.31852905e+00 -1.67515720e+00  1.70525294e+00 -3.15038132e-03\n",
      " -1.33320316e+00  2.05017383e+00  2.42719003e+00  1.96769463e+00\n",
      "  5.50312518e+00  3.74480351e-01  1.83686165e+00  3.73470804e+00\n",
      "  1.97290769e+00  5.19159470e+00 -1.30255914e+00  2.67297698e+00\n",
      "  2.60200142e+00  2.29506163e+00  1.04534041e+00  6.62319698e+00\n",
      "  1.12882684e+00  5.21601489e+00  3.63048410e+00  3.68790453e+00\n",
      "  3.79800864e+00  8.94402073e-01  1.63356956e+00  2.16855557e-01\n",
      "  3.49128160e+00  4.48017601e+00 -1.39207252e-01  3.49383794e+00\n",
      "  5.48631184e+00  2.99685539e-01  1.12588755e-01  4.35046655e+00\n",
      "  1.08100336e+00  3.08797825e+00  2.35495912e+00  3.23555959e+00\n",
      "  1.70687298e+00 -1.49058716e+00  3.57438412e+00  1.02952435e-02\n",
      " -1.55633994e+00  3.84353505e+00 -5.77506835e-01  6.23813017e+00\n",
      "  2.41372025e+00  1.81835440e+00  2.31475481e+00 -5.60475989e-01\n",
      "  1.62038486e-02  1.92162695e+00  8.61113546e-03  6.79116930e-01\n",
      " -2.39816829e-02 -2.47849907e+00  2.97001963e+00  3.14809950e+00\n",
      "  3.64154365e+00  3.10354872e+00 -3.32198090e-01  1.97872791e+00\n",
      "  2.79789869e+00  2.85348800e+00  1.74107201e+00  2.34689789e+00\n",
      "  1.06713153e+00  3.72794654e+00  3.82970389e+00  4.51161753e+00\n",
      " -1.53337178e+00 -1.13558712e+00 -8.38394810e-01  1.68834983e+00\n",
      "  2.49774298e+00  2.12963273e+00  3.79233857e+00  1.69228471e+00\n",
      " -7.07510004e-01 -2.01987844e+00  9.07564580e-02  4.53602632e+00\n",
      "  3.28813524e+00  5.00462448e+00  2.01247196e+00 -4.18057022e-01\n",
      "  7.23021063e+00  5.08334513e+00  1.79729172e+00  1.41002649e+00\n",
      "  1.27619204e+00  8.68565963e-01  3.74017583e+00  9.16803574e-01\n",
      "  2.85542473e+00  1.11776920e+00  2.62795709e+00  4.68461821e+00\n",
      "  1.87117142e+00  1.28469629e+00  1.09531477e+00  1.92164327e+00\n",
      "  8.70839172e-01  3.00458902e+00  1.80759457e+00  4.48660658e+00\n",
      " -1.18434618e+00  5.89526946e+00  2.95526355e+00  1.23593059e+00\n",
      "  4.29750296e+00 -9.93803624e-03  7.35373713e-01  4.44918416e+00\n",
      "  1.19020367e+00  2.89193199e-01  3.28394030e+00  2.55094945e+00\n",
      " -2.87907926e+00  4.52040295e-01  2.66792112e+00  1.42227001e+00\n",
      " -1.50773553e-01  3.14948316e+00  3.39438579e+00  1.31295644e+00\n",
      " -5.73184208e-01  4.12724566e+00  1.41720625e+00  2.03853384e+00\n",
      "  6.71540654e-02  1.03503941e+00  6.77744392e-01  4.96817628e+00\n",
      "  8.42900031e-02  5.61542900e+00  1.12044530e+00  2.27183359e+00\n",
      " -2.05963105e-01  4.66443556e+00  6.17559424e+00  5.52518024e-01\n",
      " -1.11877350e+00  1.00905453e-01 -1.03573242e+00 -7.80144212e-01\n",
      "  5.21461433e+00  1.69172207e+00  1.39651469e+00  2.43325707e+00\n",
      "  3.34792823e+00  9.77495812e-01  2.50412154e+00  1.41018959e+00\n",
      "  3.66351069e+00  5.83649954e+00  2.82928552e+00 -7.54518962e-01\n",
      "  4.08729478e+00  4.35701095e+00  3.90071947e-02  1.99509999e+00\n",
      " -2.47044240e-01  1.24485309e+00  2.35663357e+00  4.33232485e+00\n",
      "  4.79289095e-01  1.12197338e+00 -2.84540364e-01  2.54122244e+00\n",
      " -2.43331180e+00 -2.38034494e+00  1.40925967e+00  7.49730014e-01\n",
      "  3.84815026e+00  2.33593056e+00  2.31841240e+00  2.01256507e+00\n",
      "  1.78866858e+00  2.22254843e+00  2.58564449e+00  1.80878110e+00\n",
      "  2.05177760e+00  1.59069132e+00  2.48983443e+00  4.77164017e+00\n",
      "  9.29709396e-01  1.85747266e+00  3.32539644e+00  3.39614442e+00\n",
      "  2.78656661e+00 -3.92007587e-01  3.30240852e+00  5.13959527e+00\n",
      "  1.49878852e+00  5.10599523e+00  3.36626164e+00  4.11093489e+00\n",
      "  5.31243173e+00  6.74290566e-01 -1.63361633e+00  3.59463873e+00\n",
      "  5.12664743e+00  4.34892611e+00  2.74717166e+00  2.27553338e+00\n",
      "  3.16902069e+00  4.76317038e+00  3.09601104e+00  5.02690694e+00\n",
      "  1.92228892e+00  2.51796391e+00  4.55692133e+00  2.50673998e+00\n",
      "  4.98564732e+00  9.98072685e-01  3.24320952e+00  2.70768579e-01\n",
      "  1.16936992e-03  3.42568658e+00  5.49055732e+00  1.92788226e+00\n",
      "  2.26379556e+00  1.40381753e-01  2.16357641e+00  2.51686563e+00\n",
      "  5.46696293e-01  9.04488135e-01  1.68781267e+00  5.02065588e-02\n",
      "  6.63271209e+00 -1.84324347e+00  1.56245194e+00  6.77840983e-01\n",
      " -8.57554651e-01  3.56462540e+00  1.08432944e-02  1.51603137e+00\n",
      " -2.94435450e+00  5.07924312e+00 -1.18707426e+00 -4.32856648e-01\n",
      "  1.98389801e+00  2.40303398e+00  3.15521187e+00  4.37791911e+00\n",
      "  1.39736126e+00  3.14676083e+00  2.25120869e+00 -3.83672285e-01\n",
      "  3.24720893e+00  1.76275889e+00  2.89593598e+00  3.17363319e+00\n",
      " -4.73898955e-01  3.02387791e+00  2.29704908e+00  7.37120094e+00\n",
      "  6.98115260e-01  3.98468775e+00  7.22432961e+00  5.49284825e+00\n",
      "  1.68764625e-01  4.31290868e+00  9.66239714e-01  2.12408887e+00\n",
      "  2.95621518e+00  1.96969724e+00  2.32823402e+00  3.35800573e+00\n",
      "  2.08039339e+00  5.48706401e-01  1.75598970e+00  4.13045783e+00\n",
      "  1.95159960e+00  4.70621415e+00 -2.82848380e-01 -5.97163568e-01\n",
      "  1.36446221e+00  2.20724075e+00  1.75963093e-01 -6.04492585e-02\n",
      " -7.81456316e-01 -1.34292977e+00  6.10133915e-01  3.42802069e+00\n",
      "  2.27269809e+00 -1.38599596e+00  2.97954178e+00  2.82264610e+00\n",
      "  6.61398569e+00  8.54003787e-01 -7.42679198e-01  6.65430697e+00\n",
      "  1.79922462e+00  5.38320533e+00  3.75928416e+00 -1.43439374e-01\n",
      "  2.04869201e+00  1.86534323e+00 -3.08115335e+00  4.58996179e+00\n",
      "  2.39162246e-01  4.53187114e-01  4.09505034e+00  4.45175937e+00\n",
      "  2.21955972e+00  2.11186602e+00  4.73228561e+00  4.23957394e-01\n",
      "  1.53848621e+00  2.89655063e+00  1.34161470e+00  2.64145287e+00\n",
      "  3.51426241e+00  3.81796201e+00  2.34757527e+00  5.28186456e+00\n",
      "  4.59208207e-01  3.12037501e+00 -4.06797367e-01  5.04162580e+00\n",
      "  4.48372747e+00  7.30261999e-01  1.62140827e+00  4.21403784e+00\n",
      "  3.73525396e+00 -4.89422679e-02  2.79242435e-01  1.70004574e+00\n",
      "  1.61478646e+00  1.83168961e+00 -2.89372982e-01  1.37970484e+00\n",
      "  5.42597214e+00  1.34206307e+00  2.01247269e+00  8.59167501e-02\n",
      " -1.09509012e+00  2.55585570e+00  2.49939483e+00  4.47411023e+00\n",
      "  2.96740736e+00  1.69304642e+00  3.02893174e+00  2.92560827e+00\n",
      "  1.35145655e+00  1.61367263e+00 -2.86038184e-01  1.57539500e+00\n",
      "  1.33177853e+00  2.62589609e+00  8.63000807e-01  3.21296109e+00\n",
      "  5.96079831e-01  1.99134025e+00  5.45213278e+00  4.01110672e+00\n",
      "  4.79263319e+00  4.37581821e+00  3.09194670e+00  2.46335028e+00\n",
      " -3.44623843e-01  2.70719272e-01  8.16820420e-01  3.91609529e+00\n",
      "  1.70971108e-01  3.07569407e+00  3.55421717e+00  5.19017635e+00]\n"
     ]
    }
   ],
   "source": [
    "mu = 2.0\n",
    "sigma_1 = 5.0\n",
    "sigma_2 = 2.0\n",
    "muestras_1 = np.random.normal(loc = mu, scale = sigma_1, size = 400)  #loc: donde localizar la muestra y scale: es la sd\n",
    "muestras_2 = np.random.normal(loc = mu, scale = sigma_2, size = 400)   \n",
    "print(muestras_1, muestras_2)"
   ]
  },
  {
   "cell_type": "markdown",
   "metadata": {
    "colab_type": "text",
    "id": "OHFxZhG0U4Ub"
   },
   "source": [
    "Notar que son dos \"tiras\" de números, bastante largas y que a simple vista no nos dicen mucho. Mejor, podemos graficar su histograma. Veremos bien qué es un histograma en la próxima bitácora. Por ahora, basta saber que es una forma de visualizar cómo está distribuida una tira de números. Lo que hace es tomar un número determinado de intervalos (`bins = 20`) y contar cuántas muestras caen en cada intervalo."
   ]
  },
  {
   "cell_type": "code",
   "execution_count": 53,
   "metadata": {
    "colab": {},
    "colab_type": "code",
    "id": "4nu_9GbwU4Uf"
   },
   "outputs": [
    {
     "data": {
      "image/png": "[encoded data removed]",
      "text/plain": [
       "<Figure size 432x288 with 1 Axes>"
      ]
     },
     "metadata": {
      "needs_background": "light"
     },
     "output_type": "display_data"
    }
   ],
   "source": [
    "plt.hist(muestras_1, bins = 20, alpha = 0.5, label = 'Histrograma Muestra 1')  #bins: \"columnas\"\n",
    "plt.hist(muestras_2, bins = 20, alpha = 0.5, label = 'Histrograma Muestra 2')  #alpha: transparencia de los bins\n",
    "plt.legend()\n",
    "plt.grid()\n",
    "plt.show()"
   ]
  },
  {
   "cell_type": "markdown",
   "metadata": {
    "colab_type": "text",
    "id": "_Ez12LcZU4Uu"
   },
   "source": [
    "**Ejercicio:** Volver a \"generar\" las muestas y hacer sus histogramas. ¿Cambió?¿Por qué? Googlear que es una *semilla* (`seed`) en NumPy e implementar. También, cambiar la cantidad de muestras, modificando el argumento `size`. \n",
    "\n",
    "### 1.3 Relación entre Probabilidad y Estadística\n",
    "\n",
    "**Promedio y desviación estándar en una distribución Normal**\n",
    "\n",
    "En una distribución normal, el promedio de las muestras obtenidas *tiende* al valor medio $\\mu$ de la distribución, y la desviación estándar *tiende* a la desviacíon estándar $\\sigma$ de la distribución. Notar, entonces, que existen valores calculados (promedio, desviación estándar) y valores teóricos ($\\mu$ y $\\sigma$). Confundirlos entre sí es un error común.\n",
    "\n",
    "Veamos un ejemplo. Nuevamente, obtenemos muestras de una distribución normal:"
   ]
  },
  {
   "cell_type": "code",
   "execution_count": 60,
   "metadata": {
    "colab": {},
    "colab_type": "code",
    "id": "55UHxgsWU4Uy"
   },
   "outputs": [],
   "source": [
    "mu = 8.5\n",
    "sigma = 3.0\n",
    "muestras = np.random.normal(loc = mu, scale = sigma, size = 100)"
   ]
  },
  {
   "cell_type": "markdown",
   "metadata": {
    "colab_type": "text",
    "id": "IrLpnkqqU4U9"
   },
   "source": [
    "Y calculamos su promedio y desviación estándar, y comparamos con $\\mu$ y $\\sigma$."
   ]
  },
  {
   "cell_type": "code",
   "execution_count": 61,
   "metadata": {
    "colab": {},
    "colab_type": "code",
    "id": "k1JKKz5eU4VC"
   },
   "outputs": [
    {
     "name": "stdout",
     "output_type": "stream",
     "text": [
      "Valor medio teorico: 8.5 . Valor medio calculado: 8.617784957383458\n",
      "Desviacion estandar teorica: 3.0 . Desviacion estandar calculada: 2.79352226114936\n"
     ]
    }
   ],
   "source": [
    "print('Valor medio teorico:', mu, '. Valor medio calculado:', muestras.mean())\n",
    "print('Desviacion estandar teorica:', sigma, '. Desviacion estandar calculada:', muestras.std())"
   ]
  },
  {
   "cell_type": "markdown",
   "metadata": {
    "colab_type": "text",
    "id": "YqQs6D_YU4VQ"
   },
   "source": [
    "Comparemos el histograma de las muestras y la distribución teórica, que graficaremos haciendo uso de la librería `SciPy`:"
   ]
  },
  {
   "cell_type": "code",
   "execution_count": 64,
   "metadata": {
    "colab": {},
    "colab_type": "code",
    "id": "bf31AbLMU4VU"
   },
   "outputs": [
    {
     "data": {
      "image/png": "[encoded data removed]",
      "text/plain": [
       "<Figure size 432x288 with 1 Axes>"
      ]
     },
     "metadata": {
      "needs_background": "light"
     },
     "output_type": "display_data"
    }
   ],
   "source": [
    "from scipy.stats import norm   #importar funcion normal, lo mismo de antes pero con libreria scipy\n",
    "\n",
    "plt.hist(muestras, bins=20, density=True, alpha=0.6, color='g')\n",
    "\n",
    "xmin, xmax = plt.xlim()\n",
    "x = np.linspace(xmin, xmax, 100)\n",
    "p = norm.pdf(x, mu, sigma)\n",
    "plt.plot(x, p, 'k', linewidth=2, label = 'Distribución Teórica')  #k: es tipo de linea y el color (k--: linea punteada)\n",
    "\n",
    "title = \"Muestras obtenidas de una distribución normal con mu = %.2f,  sigma = %.2f\" % (mu, sigma)\n",
    "\n",
    "plt.title(title)\n",
    "plt.legend()\n",
    "plt.show()"
   ]
  },
  {
   "cell_type": "markdown",
   "metadata": {
    "colab_type": "text",
    "id": "RTOjCCEQU4Vi"
   },
   "source": [
    "**Nota:** si estás atento/a a la escala en el eje *y*, notarás que es distinta a la escala de los histogramas anteriores. Esto se debe a que, en un histograma, además de graficar la cantidad de muestras que entran en cada intervalo, podemos también graficar la **proporción** de muestras que entran en cada intervalo.\n",
    "\n",
    "**Para pensar y probar:** \n",
    "1. ¿Por qué no coinciden $\\mu$ y $\\sigma$ con los valores calculados?¿Qué podemos hacer para que se parezcan cada vez más?¿Y qué ocurre en ese caso con el histograma y la distribución teórica?\n",
    "2. Con respecto al ejercicio que acabamos de hacer, ¿cuáles son los *parámetros* asociados al mundo de las probabilidades y cuáles son los *valores estadísticos* asociados al mundo de la estadística?\n",
    "\n",
    "\n",
    "### Ejercitación\n",
    " \n",
    "Los siguientes ejercicios pueden parecer muy difíciles, pero te aseguramos que no lo son tanto. ¡Lo importante es que los intentes!\n",
    "\n",
    "**Ejercicio 1 - Challenge:** Muchos juegos de mesa requieren tirar dados y sumar sus resultados. Por ejemplo, el [Catán](https://es.wikipedia.org/wiki/Los_Colonos_de_Cat%C3%A1n). Es evidente que, mientras en un dado la probabilidad de que salga cada cara es la misma, en esta variable aleatoria todos los resultados no son igual de probables (¿Cuáles son los posibles resultados?). Entonces, para mejorar tu estrategia en estos juegos, es útil saber cuál es la probabilidad asociada a cada resultado. Para ello, debes calcular su distribución de probabilidad. Entonces, \n",
    "\n",
    "Obtener la distribución de la variable aleatoria *suma del resultado de tirar dos dados*. Para ello puedes intentar alguna o ambas de las siguientes opciones:\n",
    "1. **Obtener la distribución teórica:** para ello, basta contar los casos *a mano* con lápiz y papel. Por ejemplo:\n",
    "    1. Uno (1) es un resultado imposible\n",
    "    2. Dos (2) solamente puede ser obtenida con ambos dados en 1, 1 + 1\n",
    "    3. Tres (3) tiene dos opciones, 2 + 1 y 1 + 2\n",
    "    4. Cuatro (4) tiene tres opciones: 3 + 1, 2 + 2, 1 + 3\n",
    "    \n",
    "    y así para el resto de los posibles resultados. Completa la lista hasta el 12 y cuenta cuántas combinaciones existen para cada resultado. ¿Cuántos combinaciones debe haber en total, teniendo en cuenta que cada dado tiene seis caras? Al final, debes llevarlos a porcentaje. Por ejemplo, si en total son 100 posibles combinaciones, y el 12 tiene 10 posibles combinaciones, su probabilidad es 10/100 = 0.1\n",
    "    \n",
    "2. **Simular y obtener una distribución aproximada:** otra opción es simular esta situación. Viste en el notebook de la bitácora anterior cómo simular un dado. Ahora simula dos dados y obtiene la suma de sus resultados.\n",
    "\n",
    "¿Te animas a comparar ambos métodos?"
   ]
  },
  {
   "cell_type": "code",
   "execution_count": 10,
   "metadata": {},
   "outputs": [
    {
     "data": {
      "image/png": "[encoded data removed]",
      "text/plain": [
       "<Figure size 432x288 with 1 Axes>"
      ]
     },
     "metadata": {
      "needs_background": "light"
     },
     "output_type": "display_data"
    }
   ],
   "source": [
    "#1\n",
    "# COMPLETAR: UNA LINEA DE CODIGO\n",
    "# COMPLETAR: OTRA LINEA DE CODIGO\n",
    "#forma manual\n",
    "muestras_dado = np.random.choice([2,3,3,4,4,4,5,5,5,5,6,6,6,6,6,7,7,7,7,7,7,8,8,8,8,8,9,9,9,9,10,10,10,11,11,12], size = 100)\n",
    "\n",
    "plt.hist(muestras_dado, bins = np.arange(1.5,13.5,1), density=True, rwidth = 0.8,)\n",
    "plt.show()"
   ]
  },
  {
   "cell_type": "code",
   "execution_count": 9,
   "metadata": {
    "colab": {},
    "colab_type": "code",
    "id": "327V3n7oU4Vm"
   },
   "outputs": [
    {
     "data": {
      "image/png": "[encoded data removed]",
      "text/plain": [
       "<Figure size 432x288 with 1 Axes>"
      ]
     },
     "metadata": {
      "needs_background": "light"
     },
     "output_type": "display_data"
    }
   ],
   "source": [
    "#2\n",
    "# COMPLETAR: UNA LINEA DE CODIGO\n",
    " muestras_dado_1 = np.random.choice([1,2,3,4,5,6], size = 100)\n",
    "# COMPLETAR: OTRA LINEA DE CODIGO\n",
    "muestras_dado_2 = np.random.choice([1,2,3,4,5,6], size = 100)\n",
    "\n",
    "suma = muestras_dado_1 + muestras_dado_2\n",
    "\n",
    "plt.hist(suma, bins = np.arange(1.5,13.5,1), density=True, rwidth = 0.8,)\n",
    "plt.show()"
   ]
  },
  {
   "cell_type": "markdown",
   "metadata": {
    "colab_type": "text",
    "id": "EkNiPekCU4V0"
   },
   "source": [
    "**Ejercicio 2:** Obtiene, simulando, la distribución de la variable aleatoria *máximo valor obtenido al tirar dos dados.* Por ejemplo, si obtenemos 2 y 5, el resultado es 5. Nuevamente, si lo deseas, también puedes contar casos y obtener la distribución teórica."
   ]
  },
  {
   "cell_type": "code",
   "execution_count": 21,
   "metadata": {
    "colab": {},
    "colab_type": "code",
    "id": "tzyvWre3U4V4"
   },
   "outputs": [
    {
     "name": "stdout",
     "output_type": "stream",
     "text": [
      "(2, 50)\n",
      "[[2 5]\n",
      " [1 4]\n",
      " [6 4]\n",
      " [4 1]\n",
      " [2 5]\n",
      " [1 1]\n",
      " [2 2]\n",
      " [4 3]\n",
      " [3 5]\n",
      " [5 4]\n",
      " [4 2]\n",
      " [3 2]\n",
      " [5 4]\n",
      " [1 2]\n",
      " [2 1]\n",
      " [6 5]\n",
      " [6 5]\n",
      " [1 5]\n",
      " [2 5]\n",
      " [4 6]\n",
      " [4 2]\n",
      " [4 6]\n",
      " [1 3]\n",
      " [5 4]\n",
      " [3 5]\n",
      " [4 5]\n",
      " [5 5]\n",
      " [3 3]\n",
      " [3 6]\n",
      " [2 2]\n",
      " [1 6]\n",
      " [3 5]\n",
      " [4 3]\n",
      " [3 2]\n",
      " [6 1]\n",
      " [1 6]\n",
      " [1 1]\n",
      " [6 1]\n",
      " [6 3]\n",
      " [2 4]\n",
      " [2 2]\n",
      " [2 2]\n",
      " [5 3]\n",
      " [3 1]\n",
      " [6 6]\n",
      " [2 3]\n",
      " [3 1]\n",
      " [6 2]\n",
      " [4 3]\n",
      " [5 5]]\n",
      "[5 4 6 4 5 1 2 4 5 5 4 3 5 2 2 6 6 5 5 6 4 6 3 5 5 5 5 3 6 2 6 5 4 3 6 6 1\n",
      " 6 6 4 2 2 5 3 6 3 3 6 4 5]\n"
     ]
    },
    {
     "data": {
      "image/png": "[encoded data removed]",
      "text/plain": [
       "<Figure size 432x288 with 1 Axes>"
      ]
     },
     "metadata": {
      "needs_background": "light"
     },
     "output_type": "display_data"
    }
   ],
   "source": [
    "# COMPLETAR: UNA LINEA DE CODIGO \n",
    "# COMPLETAR: OTRA LINEA DE CODIGO\n",
    "\n",
    "dado_1 = np.random.randint(1,7, size = 50)\n",
    "dado_2 = np.random.randint(1,7, size = 50)\n",
    "\n",
    "'''Combinamos las muestras obtenidas en un arreglo de dos filas, donde\n",
    "cada columna corresponde a una tirada'''\n",
    "muestras = np.array([dado_1,dado_2])\n",
    "print(muestras.shape)\n",
    "muestras = muestras.transpose()\n",
    "print(muestras)\n",
    "\n",
    "'''Obtenemos el máximo de cada tirada. Recordar obtener el máximo\n",
    "en el eje (axis) correspondiente'''\n",
    "maximos = np.max(muestras, axis = (1))\n",
    "print(maximos)\n",
    "\n",
    "plt.hist(maximos, bins = np.arange(0.5,7.5,1), density=True, rwidth = 0.8)\n",
    "plt.show()"
   ]
  },
  {
   "cell_type": "markdown",
   "metadata": {
    "colab_type": "text",
    "id": "Iu_y4bliU4WK"
   },
   "source": [
    "## 2. Correlación\n",
    "\n",
    "El objetivo de esta sección es que te familiarices con los conceptos de **Covarianza** y **Correlación**. Si bien las fórmulas parecen difíciles, esperemos que veas que nada es tan grave como parece. También que prestes atención a cómo a veces es útil simular datos para aprender o acercarse a algunas técnicas.\n",
    "\n",
    "Tenemos dos variables aleatorias $X$ e $Y$, de las cuales tenemos $n$ muestras de cada una, $x_1,x_2,..., x_n$ e $y_1,y_2,..., y_n$. Sus valores medios son $\\bar{x}$ e $\\bar{y}$, respectivamente. Definimos la Covarianza como\n",
    "\n",
    "$$Cov(X,Y) = \\sum_{i=1}^{n} \\frac{(x_i - \\bar{x})(y_i - \\bar{y})}{n}$$\n",
    "\n",
    "A veces verás que, en lugar de dividir por $n$, se divide por $n - 1$ ó $n - 2$, pero eso no es importante ahora. Según Wikipedia, \"la covarianza es un valor que indica el grado de variación conjunta de dos variables aleatorias respecto a sus medias. Es el dato básico para determinar si existe una dependencia entre ambas variables y además es el dato necesario para estimar otros parámetros básicos, como el coeficiente de correlación lineal o la recta de regresión.\". \n",
    "\n",
    "Si bien la fórmula puede parecer difícil, veamos qué nos dice de nuestros datos simulando algunos casos sencillos.\n",
    "\n",
    "Empezamos generandos muestras al azar de dos variables aleatorias no relacionadas entre sí. "
   ]
  },
  {
   "cell_type": "code",
   "execution_count": 22,
   "metadata": {
    "colab": {},
    "colab_type": "code",
    "id": "q66jDC_IU4WO"
   },
   "outputs": [],
   "source": [
    "import matplotlib.pyplot as plt\n",
    "import numpy as np"
   ]
  },
  {
   "cell_type": "code",
   "execution_count": 23,
   "metadata": {
    "colab": {},
    "colab_type": "code",
    "id": "dWwL1LZ7U4Wa"
   },
   "outputs": [
    {
     "data": {
      "image/png": "[encoded data removed]",
      "text/plain": [
       "<Figure size 432x288 with 1 Axes>"
      ]
     },
     "metadata": {
      "needs_background": "light"
     },
     "output_type": "display_data"
    }
   ],
   "source": [
    "n = 1000\n",
    "sigma_1 = 2\n",
    "sigma_2 = 20\n",
    "x = np.random.normal(size = n, scale = sigma_1)\n",
    "y = np.random.normal(size = n, scale = sigma_2)\n",
    "\n",
    "# Graficamos\n",
    "plt.scatter(x, y)\n",
    "plt.grid()\n",
    "plt.xlim([-60,60])\n",
    "plt.ylim([-60,60])\n",
    "plt.show()"
   ]
  },
  {
   "cell_type": "markdown",
   "metadata": {
    "colab_type": "text",
    "id": "w44BW3CCU4Wl"
   },
   "source": [
    "¿Hay alguna relación entre ellos? Por relación nos referimos a \"variación conjunta\". Y por \"variación conjunta\" podemos imaginarnos que si una de las variables aumenta, la otra también lo hace. Y si una variable disminuye su valor, la otra también lo hace. La covarianza intenta cuantificar esa relación."
   ]
  },
  {
   "cell_type": "code",
   "execution_count": 24,
   "metadata": {
    "colab": {},
    "colab_type": "code",
    "id": "3wX-H3y-U4Wo"
   },
   "outputs": [
    {
     "name": "stdout",
     "output_type": "stream",
     "text": [
      "-1.7282249976158464\n"
     ]
    }
   ],
   "source": [
    "cov = np.sum((x - x.mean())*(y - y.mean()))/x.size\n",
    "print(cov)"
   ]
  },
  {
   "cell_type": "markdown",
   "metadata": {
    "colab_type": "text",
    "id": "zzbRb7kmU4W0"
   },
   "source": [
    "La covarianza, sin embargo, tiene un pequeño problema: depende de la escala de nuestros datos. Entonces, para deshacernos de la escala, se puede definir la Correlación, que no es otra cosa que la covarianza dividida la desviación estándar de cada variable aletaria.\n",
    "\n",
    "$$Corr(X,Y) = \\frac{Cov(X,Y)}{\\sigma_X \\sigma_Y}$$"
   ]
  },
  {
   "cell_type": "code",
   "execution_count": 25,
   "metadata": {
    "colab": {},
    "colab_type": "code",
    "id": "wW2-EG20U4W2"
   },
   "outputs": [
    {
     "name": "stdout",
     "output_type": "stream",
     "text": [
      "-0.0453050881026362\n"
     ]
    }
   ],
   "source": [
    "corr = cov/(x.std()*y.std())\n",
    "print(corr)"
   ]
  },
  {
   "cell_type": "markdown",
   "metadata": {
    "colab_type": "text",
    "id": "UHClidVeU4XC"
   },
   "source": [
    "Y con eso nos deshacemos de la escala. Un valor cercano a cero nos indica que no existe una relación (¿lineal?) entre las variables.\n",
    "\n",
    "**Probar** con distintas escalas (modificando `sigma_1` y `sigma_2`) y verán que `cov` tomará valores en un rango muy amplio, mientras que `corr` se mantendrá cercana a cero.\n",
    "\n",
    "### 2.1 Relación lineal\n",
    "\n",
    "Veamos otro ejemplo: sabemos que existe una relación lineal entre $X$ e $Y$, es decir, podemos aproximar $Y =aX+b$, donde $a$ y $b$ son la pendiente y la ordenada al origen."
   ]
  },
  {
   "cell_type": "code",
   "execution_count": 35,
   "metadata": {
    "colab": {},
    "colab_type": "code",
    "id": "JV0TUTcCU4XE"
   },
   "outputs": [
    {
     "data": {
      "image/png": "[encoded data removed]",
      "text/plain": [
       "<Figure size 432x288 with 1 Axes>"
      ]
     },
     "metadata": {
      "needs_background": "light"
     },
     "output_type": "display_data"
    }
   ],
   "source": [
    "n = 100\n",
    "x = np.linspace(-1,1,n) + 0.25*np.random.normal(size = n)\n",
    "y = 4.5*x + 0.25*np.random.normal(size = n)\n",
    "\n",
    "# Graficamos\n",
    "plt.scatter(x, y)\n",
    "plt.grid()\n",
    "plt.show()"
   ]
  },
  {
   "cell_type": "markdown",
   "metadata": {
    "colab_type": "text",
    "id": "SpN-9JFmU4XM"
   },
   "source": [
    "La covarianza nos da"
   ]
  },
  {
   "cell_type": "code",
   "execution_count": 36,
   "metadata": {
    "colab": {},
    "colab_type": "code",
    "id": "LEzzOeFtU4XR"
   },
   "outputs": [
    {
     "name": "stdout",
     "output_type": "stream",
     "text": [
      "1.9519722576251877\n"
     ]
    }
   ],
   "source": [
    "cov = np.sum((x - x.mean())*(y - y.mean()))/x.size\n",
    "print(cov)"
   ]
  },
  {
   "cell_type": "code",
   "execution_count": 37,
   "metadata": {
    "colab": {},
    "colab_type": "code",
    "id": "ofbVUp7xU4Xa"
   },
   "outputs": [
    {
     "data": {
      "text/plain": [
       "0.9967908304085256"
      ]
     },
     "execution_count": 37,
     "metadata": {},
     "output_type": "execute_result"
    }
   ],
   "source": [
    "corr = cov/(x.std()*y.std())\n",
    "corr"
   ]
  },
  {
   "cell_type": "markdown",
   "metadata": {
    "colab_type": "text",
    "id": "3O19qjolU4Xi"
   },
   "source": [
    "Ahora, en cambio, el valor es cercano a uno, indicando una relación lineal creciente entre ambas variables.\n",
    "\n",
    "**Probar** cambiando la pendiente de la función lineal (el número que multiplica a `x` en `y = ...`) y mirar qué pasa. ¿Qué pasa si la pendiente es negativa?"
   ]
  },
  {
   "cell_type": "markdown",
   "metadata": {
    "colab_type": "text",
    "id": "vjgjstKaU4Xm"
   },
   "source": [
    "#### Conclusiones\n",
    "\n",
    "1. La covarianza es una medida de la variación conjunta de dos variables. Pero tiene un problema: depende de la escala.\n",
    "2. Para \"deshacernos\" de la escala, definimos la correlación, que es simplemente la covarianza dividida por el producto de la desviación estándar de cada variable. **Para pensar:** ¿por qué la desviación estándar está asociada a la escala de una variable?\n",
    "3. La correlación es un valor entre -1 y 1. La correlación toma un valor cercano a uno cuando hay una relación lineal creciente entre las variables, cero cuando no hay relación y -1 cuando hay una relación lineal decreciente.\n",
    "4. Esta correlación tiene un nombre particular: **Correlación de Pearson**."
   ]
  },
  {
   "cell_type": "markdown",
   "metadata": {
    "colab_type": "text",
    "id": "piVs0Av1U4Xp"
   },
   "source": [
    "### 2.2 Covarianza y Correlación con NumPy\n",
    "\n",
    "**Esta sección es opcional**\n",
    "\n",
    "NumPy ya tiene incorporadas funciones que calculan la covarianza y la correlación entre dos variables. La única diferencia es que, en lugar de devolver un único valor, devuelve cuatro valores, que corresponden a la covarianza/correlación entre $X$ con $X$, $X$ con $Y$, $Y$ con $X$, e $Y$ con $Y$. ¿Por qué, en la correlación, algunos valores son exactamente uno (1.)?"
   ]
  },
  {
   "cell_type": "code",
   "execution_count": 38,
   "metadata": {
    "colab": {},
    "colab_type": "code",
    "id": "frlmIIkKU4Xr"
   },
   "outputs": [
    {
     "data": {
      "text/plain": [
       "array([[0.43335562, 1.97168915],\n",
       "       [1.97168915, 9.02868281]])"
      ]
     },
     "execution_count": 38,
     "metadata": {},
     "output_type": "execute_result"
    }
   ],
   "source": [
    "np.cov([x,y])"
   ]
  },
  {
   "cell_type": "code",
   "execution_count": 39,
   "metadata": {
    "colab": {},
    "colab_type": "code",
    "id": "AWJOKo6sU4Xz"
   },
   "outputs": [
    {
     "data": {
      "text/plain": [
       "array([[1.        , 0.99679083],\n",
       "       [0.99679083, 1.        ]])"
      ]
     },
     "execution_count": 39,
     "metadata": {},
     "output_type": "execute_result"
    }
   ],
   "source": [
    "np.corrcoef([x,y])"
   ]
  },
  {
   "cell_type": "markdown",
   "metadata": {
    "colab_type": "text",
    "id": "MyrooOHbU4X8"
   },
   "source": [
    "### 2.3 Relación No-Lineal entre variables\n",
    "\n",
    "**Esta sección es opcional, pero recomendamos leerla**\n",
    "\n",
    "¿Qué ocurre cuando la relación no es lineal entre las variables? Veámoslo con un ejemplo.\n"
   ]
  },
  {
   "cell_type": "code",
   "execution_count": 40,
   "metadata": {
    "colab": {},
    "colab_type": "code",
    "id": "iW2lL_d8U4X-"
   },
   "outputs": [
    {
     "data": {
      "image/png": "[encoded data removed]",
      "text/plain": [
       "<Figure size 432x288 with 1 Axes>"
      ]
     },
     "metadata": {
      "needs_background": "light"
     },
     "output_type": "display_data"
    }
   ],
   "source": [
    "n = 1000\n",
    "x = np.linspace(-5,5,n) + 0.25*np.random.normal(size = n)\n",
    "y = x**2 + 0.25*np.random.normal(size = n)\n",
    "\n",
    "# Graficamos\n",
    "plt.scatter(x, y)\n",
    "plt.grid()\n",
    "plt.show()"
   ]
  },
  {
   "cell_type": "markdown",
   "metadata": {
    "colab_type": "text",
    "id": "x0f8gozSU4YF"
   },
   "source": [
    "La covarianza nos da"
   ]
  },
  {
   "cell_type": "code",
   "execution_count": 41,
   "metadata": {
    "colab": {},
    "colab_type": "code",
    "id": "qyOWwrbQU4YH"
   },
   "outputs": [
    {
     "name": "stdout",
     "output_type": "stream",
     "text": [
      "0.3086098464786501\n"
     ]
    }
   ],
   "source": [
    "cov = np.sum((x - x.mean())*(y - y.mean()))/x.size\n",
    "print(cov)"
   ]
  },
  {
   "cell_type": "code",
   "execution_count": 46,
   "metadata": {},
   "outputs": [
    {
     "data": {
      "text/plain": [
       "array([[ 8.37503709,  0.30891877],\n",
       "       [ 0.30891877, 56.30192249]])"
      ]
     },
     "execution_count": 46,
     "metadata": {},
     "output_type": "execute_result"
    }
   ],
   "source": [
    "np.cov([x,y]) "
   ]
  },
  {
   "cell_type": "code",
   "execution_count": 42,
   "metadata": {
    "colab": {},
    "colab_type": "code",
    "id": "_90NldnwU4YP"
   },
   "outputs": [
    {
     "data": {
      "text/plain": [
       "0.014226213056893689"
      ]
     },
     "execution_count": 42,
     "metadata": {},
     "output_type": "execute_result"
    }
   ],
   "source": [
    "corr = cov/(x.std()*y.std())\n",
    "corr"
   ]
  },
  {
   "cell_type": "code",
   "execution_count": 47,
   "metadata": {},
   "outputs": [
    {
     "data": {
      "text/plain": [
       "array([[1.        , 0.01422621],\n",
       "       [0.01422621, 1.        ]])"
      ]
     },
     "execution_count": 47,
     "metadata": {},
     "output_type": "execute_result"
    }
   ],
   "source": [
    "np.corrcoef([x,y])"
   ]
  },
  {
   "cell_type": "markdown",
   "metadata": {
    "colab_type": "text",
    "id": "9XiFp1CZU4YX"
   },
   "source": [
    "Notar que la correlación de un valor alrededor de cero, indicando que no hay una correlación entre ambas variables. Pero esto NO indica que no hay una *relación* entre esas variables, solamente nos dice que no es lineal. Por eso es muy importante graficar.\n",
    "\n",
    "**Probar** cambiando la relación matemática entre `x` e `y` y mirar qué pasa.\n",
    "\n",
    "Para tratar con relaciones no lineal entre variables, existen otros tipos de correlaciones. La que vimos se llama **Correlación de Pearson**, que es la más famosa. Pero también existen otras, Spearman y Kendall, que son muy útiles cuando existe una relación no lineal entre variables.\n",
    "\n",
    "### 3. Correlación en Pandas\n",
    "\n",
    "Probablemente ya estés un poco mareado/a con tantos términos, conceptos y líneas de código. Si no entendiste del todo lo anterior, no te preocupes. Vamos a ver cómo lo aplicamos en un conjunto de datos. ¡Verás que es muy sencillo!\n",
    "\n",
    "Para eso, volvemos a usar el Iris Dataset del encuentro anterior."
   ]
  },
  {
   "cell_type": "code",
   "execution_count": 49,
   "metadata": {
    "colab": {},
    "colab_type": "code",
    "id": "jwu9X-67U4Ya"
   },
   "outputs": [],
   "source": [
    "import pandas as pd"
   ]
  },
  {
   "cell_type": "code",
   "execution_count": 50,
   "metadata": {
    "colab": {},
    "colab_type": "code",
    "id": "QSWYv0_WU4Yk"
   },
   "outputs": [
    {
     "data": {
      "text/html": [
       "<div>\n",
       "<style scoped>\n",
       "    .dataframe tbody tr th:only-of-type {\n",
       "        vertical-align: middle;\n",
       "    }\n",
       "\n",
       "    .dataframe tbody tr th {\n",
       "        vertical-align: top;\n",
       "    }\n",
       "\n",
       "    .dataframe thead th {\n",
       "        text-align: right;\n",
       "    }\n",
       "</style>\n",
       "<table border=\"1\" class=\"dataframe\">\n",
       "  <thead>\n",
       "    <tr style=\"text-align: right;\">\n",
       "      <th></th>\n",
       "      <th>SepalLengthCm</th>\n",
       "      <th>SepalWidthCm</th>\n",
       "      <th>PetalLengthCm</th>\n",
       "      <th>PetalWidthCm</th>\n",
       "      <th>Species</th>\n",
       "    </tr>\n",
       "  </thead>\n",
       "  <tbody>\n",
       "    <tr>\n",
       "      <th>0</th>\n",
       "      <td>5.1</td>\n",
       "      <td>3.5</td>\n",
       "      <td>1.4</td>\n",
       "      <td>0.2</td>\n",
       "      <td>Iris-setosa</td>\n",
       "    </tr>\n",
       "    <tr>\n",
       "      <th>1</th>\n",
       "      <td>4.9</td>\n",
       "      <td>3.0</td>\n",
       "      <td>1.4</td>\n",
       "      <td>0.2</td>\n",
       "      <td>Iris-setosa</td>\n",
       "    </tr>\n",
       "    <tr>\n",
       "      <th>2</th>\n",
       "      <td>4.7</td>\n",
       "      <td>3.2</td>\n",
       "      <td>1.3</td>\n",
       "      <td>0.2</td>\n",
       "      <td>Iris-setosa</td>\n",
       "    </tr>\n",
       "    <tr>\n",
       "      <th>3</th>\n",
       "      <td>4.6</td>\n",
       "      <td>3.1</td>\n",
       "      <td>1.5</td>\n",
       "      <td>0.2</td>\n",
       "      <td>Iris-setosa</td>\n",
       "    </tr>\n",
       "    <tr>\n",
       "      <th>4</th>\n",
       "      <td>5.0</td>\n",
       "      <td>3.6</td>\n",
       "      <td>1.4</td>\n",
       "      <td>0.2</td>\n",
       "      <td>Iris-setosa</td>\n",
       "    </tr>\n",
       "  </tbody>\n",
       "</table>\n",
       "</div>"
      ],
      "text/plain": [
       "   SepalLengthCm  SepalWidthCm  PetalLengthCm  PetalWidthCm      Species\n",
       "0            5.1           3.5            1.4           0.2  Iris-setosa\n",
       "1            4.9           3.0            1.4           0.2  Iris-setosa\n",
       "2            4.7           3.2            1.3           0.2  Iris-setosa\n",
       "3            4.6           3.1            1.5           0.2  Iris-setosa\n",
       "4            5.0           3.6            1.4           0.2  Iris-setosa"
      ]
     },
     "execution_count": 50,
     "metadata": {},
     "output_type": "execute_result"
    }
   ],
   "source": [
    "data = pd.read_csv('DS_Bitácora_04_Iris.csv')\n",
    "data.drop(columns = 'Id', inplace = True)\n",
    "data.head()"
   ]
  },
  {
   "cell_type": "markdown",
   "metadata": {
    "colab_type": "text",
    "id": "_hpR90jUU4Yr"
   },
   "source": [
    "Para obtener las correlaciones entre las distintas variables, simplemente tenemos que hacer:"
   ]
  },
  {
   "cell_type": "code",
   "execution_count": 51,
   "metadata": {
    "colab": {},
    "colab_type": "code",
    "id": "j24K4utyU4Yw"
   },
   "outputs": [
    {
     "data": {
      "text/html": [
       "<div>\n",
       "<style scoped>\n",
       "    .dataframe tbody tr th:only-of-type {\n",
       "        vertical-align: middle;\n",
       "    }\n",
       "\n",
       "    .dataframe tbody tr th {\n",
       "        vertical-align: top;\n",
       "    }\n",
       "\n",
       "    .dataframe thead th {\n",
       "        text-align: right;\n",
       "    }\n",
       "</style>\n",
       "<table border=\"1\" class=\"dataframe\">\n",
       "  <thead>\n",
       "    <tr style=\"text-align: right;\">\n",
       "      <th></th>\n",
       "      <th>SepalLengthCm</th>\n",
       "      <th>SepalWidthCm</th>\n",
       "      <th>PetalLengthCm</th>\n",
       "      <th>PetalWidthCm</th>\n",
       "    </tr>\n",
       "  </thead>\n",
       "  <tbody>\n",
       "    <tr>\n",
       "      <th>SepalLengthCm</th>\n",
       "      <td>1.000000</td>\n",
       "      <td>-0.109369</td>\n",
       "      <td>0.871754</td>\n",
       "      <td>0.817954</td>\n",
       "    </tr>\n",
       "    <tr>\n",
       "      <th>SepalWidthCm</th>\n",
       "      <td>-0.109369</td>\n",
       "      <td>1.000000</td>\n",
       "      <td>-0.420516</td>\n",
       "      <td>-0.356544</td>\n",
       "    </tr>\n",
       "    <tr>\n",
       "      <th>PetalLengthCm</th>\n",
       "      <td>0.871754</td>\n",
       "      <td>-0.420516</td>\n",
       "      <td>1.000000</td>\n",
       "      <td>0.962757</td>\n",
       "    </tr>\n",
       "    <tr>\n",
       "      <th>PetalWidthCm</th>\n",
       "      <td>0.817954</td>\n",
       "      <td>-0.356544</td>\n",
       "      <td>0.962757</td>\n",
       "      <td>1.000000</td>\n",
       "    </tr>\n",
       "  </tbody>\n",
       "</table>\n",
       "</div>"
      ],
      "text/plain": [
       "               SepalLengthCm  SepalWidthCm  PetalLengthCm  PetalWidthCm\n",
       "SepalLengthCm       1.000000     -0.109369       0.871754      0.817954\n",
       "SepalWidthCm       -0.109369      1.000000      -0.420516     -0.356544\n",
       "PetalLengthCm       0.871754     -0.420516       1.000000      0.962757\n",
       "PetalWidthCm        0.817954     -0.356544       0.962757      1.000000"
      ]
     },
     "execution_count": 51,
     "metadata": {},
     "output_type": "execute_result"
    }
   ],
   "source": [
    "data.corr()"
   ]
  },
  {
   "cell_type": "markdown",
   "metadata": {
    "colab_type": "text",
    "id": "1ePNNkIzU4Y3"
   },
   "source": [
    "**Para responder**: ¿Cuáles variables están correlacionadas entre sí?¿Por qué los elementos de la diagonal son exactamente uno (1.0)?\n",
    "\n",
    "Dentro de dos encuentros veremos una forma más eficiente de visualizar esta información, ¡pero ya puedes aplicarla!"
   ]
  }
 ],
 "metadata": {
  "colab": {
   "collapsed_sections": [],
   "name": "DS_Bitácora_05_Probabilidad.ipynb",
   "provenance": []
  },
  "kernelspec": {
   "display_name": "Python 3",
   "language": "python",
   "name": "python3"
  },
  "language_info": {
   "codemirror_mode": {
    "name": "ipython",
    "version": 3
   },
   "file_extension": ".py",
   "mimetype": "text/x-python",
   "name": "python",
   "nbconvert_exporter": "python",
   "pygments_lexer": "ipython3",
   "version": "3.8.5"
  }
 },
 "nbformat": 4,
 "nbformat_minor": 4
}
