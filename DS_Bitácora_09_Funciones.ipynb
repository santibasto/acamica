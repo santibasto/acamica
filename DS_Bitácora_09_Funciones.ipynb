{
 "cells": [
  {
   "cell_type": "markdown",
   "metadata": {
    "colab_type": "text",
    "id": "Uy0OFppyHc7P"
   },
   "source": [
    "# Funciones y Namespaces\n",
    "\n",
    "\n",
    "## 1. Funciones\n",
    "\n",
    "Una función es un bloque de código que sólo corre cuando es llamado."
   ]
  },
  {
   "cell_type": "code",
   "execution_count": 1,
   "metadata": {
    "colab": {},
    "colab_type": "code",
    "id": "TR7iKnNAHc7U"
   },
   "outputs": [],
   "source": [
    "def par_o_impar(numero):\n",
    "    if numero %2 == 0:\n",
    "        print('Es par')\n",
    "    else:\n",
    "        print('Es impar')"
   ]
  },
  {
   "cell_type": "markdown",
   "metadata": {
    "colab_type": "text",
    "id": "UmfqHAFYHc7a"
   },
   "source": [
    "Notar que si ejecutamos la celda no ocurre nada apreciable. Si llamamos a la función"
   ]
  },
  {
   "cell_type": "code",
   "execution_count": 2,
   "metadata": {
    "colab": {},
    "colab_type": "code",
    "id": "mZz97vNcHc7b"
   },
   "outputs": [
    {
     "data": {
      "text/plain": [
       "<function __main__.par_o_impar(numero)>"
      ]
     },
     "execution_count": 2,
     "metadata": {},
     "output_type": "execute_result"
    }
   ],
   "source": [
    "par_o_impar"
   ]
  },
  {
   "cell_type": "markdown",
   "metadata": {
    "colab_type": "text",
    "id": "dxhLiF9_Hc7e"
   },
   "source": [
    "Python nos dice, de una forma no muy clara, que se trata de una función. Las funciones se llaman con paréntesis:"
   ]
  },
  {
   "cell_type": "code",
   "execution_count": 388,
   "metadata": {
    "colab": {},
    "colab_type": "code",
    "id": "2hlNi4TPHc7f"
   },
   "outputs": [
    {
     "name": "stdout",
     "output_type": "stream",
     "text": [
      "Es impar\n",
      "Es par\n",
      "Es par\n",
      "Es impar\n",
      "Es par\n",
      "Es impar\n",
      "Es impar\n"
     ]
    },
    {
     "data": {
      "text/plain": [
       "0    None\n",
       "1    None\n",
       "2    None\n",
       "3    None\n",
       "4    None\n",
       "5    None\n",
       "6    None\n",
       "Name: 0, dtype: object"
      ]
     },
     "execution_count": 388,
     "metadata": {},
     "output_type": "execute_result"
    }
   ],
   "source": [
    "import pandas as pd\n",
    "pd.DataFrame([1,2,22,3,54,43,23])[0].map(par_o_impar)"
   ]
  },
  {
   "cell_type": "markdown",
   "metadata": {
    "colab_type": "text",
    "id": "f4utCC2AHc7m"
   },
   "source": [
    "Y en este caso, arroja un error porque falta un argumento, `numero`. Las dos siguientes son equivalentes:"
   ]
  },
  {
   "cell_type": "code",
   "execution_count": 4,
   "metadata": {
    "colab": {},
    "colab_type": "code",
    "id": "ehNK_bZhHc7n"
   },
   "outputs": [
    {
     "name": "stdout",
     "output_type": "stream",
     "text": [
      "Es impar\n",
      "Es impar\n"
     ]
    }
   ],
   "source": [
    "par_o_impar(numero = 9)\n",
    "par_o_impar(9)"
   ]
  },
  {
   "cell_type": "markdown",
   "metadata": {
    "colab_type": "text",
    "id": "qhzGwv5yHc7r"
   },
   "source": [
    "Al tener un solo argumento, en este caso no hay mucho lugar a confusión, pero las funciones pueden tener muchos argumentos:"
   ]
  },
  {
   "cell_type": "code",
   "execution_count": 5,
   "metadata": {
    "colab": {},
    "colab_type": "code",
    "id": "APWwtAyQHc7r"
   },
   "outputs": [],
   "source": [
    "def division(dividendo, divisor):\n",
    "    print(dividendo/divisor)"
   ]
  },
  {
   "cell_type": "markdown",
   "metadata": {
    "colab_type": "text",
    "id": "xui25ezwHc7u"
   },
   "source": [
    "Entonces podemos llamar a la función pasándole los argumentos en orden, o explicitando el valor de cada argumento:"
   ]
  },
  {
   "cell_type": "code",
   "execution_count": 6,
   "metadata": {
    "colab": {},
    "colab_type": "code",
    "id": "NTY-C4QkHc7v"
   },
   "outputs": [
    {
     "name": "stdout",
     "output_type": "stream",
     "text": [
      "2.0\n",
      "0.5\n"
     ]
    }
   ],
   "source": [
    "division(4,2)\n",
    "division(divisor = 4, dividendo = 2)  #notar que asi no nos tenemos que preocupar por el orden"
   ]
  },
  {
   "cell_type": "markdown",
   "metadata": {
    "colab_type": "text",
    "id": "0l67IWtSHc72"
   },
   "source": [
    "También, pueden tener argumentos *por default*, que si no explicitamos, toman un valor predefinido:"
   ]
  },
  {
   "cell_type": "code",
   "execution_count": 7,
   "metadata": {
    "colab": {},
    "colab_type": "code",
    "id": "amHVU0aqHc73"
   },
   "outputs": [],
   "source": [
    "def division(dividendo, divisor = 2):\n",
    "    print(dividendo/divisor)"
   ]
  },
  {
   "cell_type": "code",
   "execution_count": 8,
   "metadata": {
    "colab": {},
    "colab_type": "code",
    "id": "4tlcAOK7Hc77"
   },
   "outputs": [
    {
     "name": "stdout",
     "output_type": "stream",
     "text": [
      "4.5\n",
      "3.0\n",
      "3.0\n",
      "3.0\n"
     ]
    }
   ],
   "source": [
    "division(9)\n",
    "division(9, 3) \n",
    "division(dividendo = 9, divisor = 3) # Mejor opción para cuando quiero volver a leer el código\n",
    "division(9, divisor = 3) "
   ]
  },
  {
   "cell_type": "markdown",
   "metadata": {
    "colab_type": "text",
    "id": "l3RA0DzmHc7-"
   },
   "source": [
    "### 1.1 `return`\n",
    "\n",
    "Las funciones pueden devolver resultados"
   ]
  },
  {
   "cell_type": "code",
   "execution_count": 287,
   "metadata": {
    "colab": {},
    "colab_type": "code",
    "id": "hKm5IuffHc7-"
   },
   "outputs": [],
   "source": [
    "def division(dividendo, divisor = 2):\n",
    "    variable_auxiliar = dividendo/divisor\n",
    "    return variable_auxiliar # return me devuelve el resultado, me devuelve el objeto (diferente a print)"
   ]
  },
  {
   "cell_type": "code",
   "execution_count": 288,
   "metadata": {
    "colab": {},
    "colab_type": "code",
    "id": "t1F0Q1jaHc8E"
   },
   "outputs": [],
   "source": [
    "resultado_division = division(9,3)"
   ]
  },
  {
   "cell_type": "code",
   "execution_count": 289,
   "metadata": {
    "colab": {},
    "colab_type": "code",
    "id": "MdpIn6L1Hc8K"
   },
   "outputs": [
    {
     "name": "stdout",
     "output_type": "stream",
     "text": [
      "3.0\n"
     ]
    }
   ],
   "source": [
    "print(resultado_division)"
   ]
  },
  {
   "cell_type": "markdown",
   "metadata": {
    "colab_type": "text",
    "id": "yeflhD9bHc8O"
   },
   "source": [
    "Y, si lo necesitamos, podemos hacer que devuelvan más de un resultado"
   ]
  },
  {
   "cell_type": "code",
   "execution_count": 12,
   "metadata": {
    "colab": {},
    "colab_type": "code",
    "id": "xI2migZ2Hc8O"
   },
   "outputs": [],
   "source": [
    "def division_y_producto(numero_1,numero_2):\n",
    "    div = numero_1/numero_2\n",
    "    prod = numero_1*numero_2\n",
    "    return div, prod\n",
    "\n",
    "### Son equivalentes\n",
    "# def division_y_producto(numero_1,numero_2):\n",
    "#     return numero_1/numero_2, numero_1*numero_2"
   ]
  },
  {
   "cell_type": "code",
   "execution_count": 13,
   "metadata": {
    "colab": {},
    "colab_type": "code",
    "id": "HSHEqQbqHc8U"
   },
   "outputs": [
    {
     "name": "stdout",
     "output_type": "stream",
     "text": [
      "(2.0, 50)\n"
     ]
    }
   ],
   "source": [
    "resultados = division_y_producto(10,5)\n",
    "print(resultados)"
   ]
  },
  {
   "cell_type": "markdown",
   "metadata": {
    "colab_type": "text",
    "id": "vNnD3SYkHc8a"
   },
   "source": [
    "Notar la diferencia"
   ]
  },
  {
   "cell_type": "code",
   "execution_count": 14,
   "metadata": {
    "colab": {},
    "colab_type": "code",
    "id": "SXQ7ga-GHc8c"
   },
   "outputs": [
    {
     "name": "stdout",
     "output_type": "stream",
     "text": [
      "2.0 50\n"
     ]
    }
   ],
   "source": [
    "resultado_1, resultado_2 = division_y_producto(10,5)\n",
    "print(resultado_1, resultado_2)"
   ]
  },
  {
   "cell_type": "markdown",
   "metadata": {
    "colab_type": "text",
    "id": "l4p9sStqHc8g"
   },
   "source": [
    "### 2. Namespaces and Scope\n",
    "\n",
    "Encontrar la diferencia entre las siguientes celdas:"
   ]
  },
  {
   "cell_type": "code",
   "execution_count": 308,
   "metadata": {
    "colab": {},
    "colab_type": "code",
    "id": "QDWIkcVoHc8g"
   },
   "outputs": [
    {
     "name": "stdout",
     "output_type": "stream",
     "text": [
      "25.0\n"
     ]
    },
    {
     "ename": "NameError",
     "evalue": "name 'divisor' is not defined",
     "output_type": "error",
     "traceback": [
      "\u001b[0;31m---------------------------------------------------------------------------\u001b[0m",
      "\u001b[0;31mNameError\u001b[0m                                 Traceback (most recent call last)",
      "\u001b[0;32m<ipython-input-308-5e59527459dd>\u001b[0m in \u001b[0;36m<module>\u001b[0;34m\u001b[0m\n\u001b[1;32m      3\u001b[0m     \u001b[0;32mreturn\u001b[0m \u001b[0mvariable_auxiliar\u001b[0m\u001b[0;34m\u001b[0m\u001b[0;34m\u001b[0m\u001b[0m\n\u001b[1;32m      4\u001b[0m \u001b[0mprint\u001b[0m\u001b[0;34m(\u001b[0m\u001b[0mdivision\u001b[0m\u001b[0;34m(\u001b[0m\u001b[0;36m50\u001b[0m\u001b[0;34m)\u001b[0m\u001b[0;34m)\u001b[0m \u001b[0;31m# divisor = 2, predefinido\u001b[0m\u001b[0;34m\u001b[0m\u001b[0;34m\u001b[0m\u001b[0m\n\u001b[0;32m----> 5\u001b[0;31m \u001b[0mprint\u001b[0m\u001b[0;34m(\u001b[0m\u001b[0mdivisor\u001b[0m\u001b[0;34m)\u001b[0m \u001b[0;31m# divisor solo existe en el local, no afuera, por eso el error\u001b[0m\u001b[0;34m\u001b[0m\u001b[0;34m\u001b[0m\u001b[0m\n\u001b[0m",
      "\u001b[0;31mNameError\u001b[0m: name 'divisor' is not defined"
     ]
    }
   ],
   "source": [
    "def division(dividendo, divisor = 2):\n",
    "    variable_auxiliar = dividendo/divisor\n",
    "    return variable_auxiliar\n",
    "print(division(50)) # divisor = 2, predefinido \n",
    "print(divisor) # divisor solo existe en el local, no afuera, por eso el error"
   ]
  },
  {
   "cell_type": "code",
   "execution_count": 301,
   "metadata": {
    "colab": {},
    "colab_type": "code",
    "id": "GqH1iudRHc8l"
   },
   "outputs": [
    {
     "name": "stdout",
     "output_type": "stream",
     "text": [
      "10.0\n",
      "5\n"
     ]
    }
   ],
   "source": [
    "divisor = 5 # Redefinimos divisor\n",
    "def division(dividendo):\n",
    "    variable_auxiliar = dividendo/divisor\n",
    "    return variable_auxiliar\n",
    "print(division(50))\n",
    "print(divisor)"
   ]
  },
  {
   "cell_type": "code",
   "execution_count": 17,
   "metadata": {
    "colab": {},
    "colab_type": "code",
    "id": "7c2C88EdHc8q"
   },
   "outputs": [
    {
     "name": "stdout",
     "output_type": "stream",
     "text": [
      "25.0\n",
      "5\n"
     ]
    }
   ],
   "source": [
    "divisor = 5\n",
    "def division(dividendo, divisor = 2):\n",
    "    variable_auxiliar = dividendo/divisor\n",
    "    return variable_auxiliar\n",
    "print(division(50))\n",
    "print(divisor)"
   ]
  },
  {
   "cell_type": "markdown",
   "metadata": {
    "colab_type": "text",
    "id": "lKiKg5gpHc8t"
   },
   "source": [
    "**Investigar:** ¿qué es una variable global?¿Y una variable local?¿Qué es un Namespace?"
   ]
  },
  {
   "cell_type": "markdown",
   "metadata": {
    "colab_type": "text",
    "id": "piu1Vn45Hc8t"
   },
   "source": [
    "### 3. Funciones Lambda (Anónimas)\n",
    "\n",
    "Una función `lambda` es una forma conveniente de crear una función en una sola línea. También se las conoce como funciones anónimas, ya que no suelen tener nombre."
   ]
  },
  {
   "cell_type": "code",
   "execution_count": 294,
   "metadata": {
    "colab": {},
    "colab_type": "code",
    "id": "xCh5eX_bHc8u"
   },
   "outputs": [
    {
     "data": {
      "text/plain": [
       "8.0"
      ]
     },
     "execution_count": 294,
     "metadata": {},
     "output_type": "execute_result"
    }
   ],
   "source": [
    "lambda_division = lambda x,y: x/y\n",
    "lambda_division(80,10)"
   ]
  },
  {
   "cell_type": "markdown",
   "metadata": {
    "colab_type": "text",
    "id": "AYXIn5grHc8x"
   },
   "source": [
    "Algunas características:\n",
    "1. Pueden tener cualquier cantidad de argumentos, pero solo una expresión\n",
    "1. No se les suele poner nombre como hicimos, de hecho es raro utilizarlas de esa forma.\n",
    "1. No necesitan un `return`\n",
    "1. Muy cómodas para crear funciones rápido.\n",
    "1. En general, las veras combinadas con funciones como `map()`, `filter()`, `apply()`, `applymap()`, etc.\n",
    "\n",
    "Existen algunas diferencias sutiles entre una función creada con `def` y una función lambda, pero para nuestros objetivos basta con saber que una función lambda es una forma rápida de crear funciones sencillas."
   ]
  },
  {
   "cell_type": "markdown",
   "metadata": {
    "colab_type": "text",
    "id": "TaXTMVjYHc8y"
   },
   "source": [
    "### 4. Documentando funciones\n",
    "\n",
    "Cuando creemos funciones es conveniente documentarlas, así si volvemos meses después a nuestro código, o se lo compartimos a alguien, podemos entender qué hace sin tener que leer y entenderlo completamente. Es decir, de la misma forma que hacemos con muchas de las funciones de las librerías que venimos usando. Hay muchos formatos para documentar una función, pero en general incluyen: qué hace la función, cuales son sus argumentos, y cuáles son sus returns. A veces, también algún ejemplo mostrando cómo se usa. El grado de detalle depende del tiempo y de la complejidad de la función. Recomendamos siempre documentar las funciones, aunque sea de forma breve.\n",
    "\n",
    "Dejamos un formato de documentación a modo de ejemplo. En general, se estila documentar en inglés, pero vamos a hacer una excepción."
   ]
  },
  {
   "cell_type": "code",
   "execution_count": 295,
   "metadata": {
    "colab": {},
    "colab_type": "code",
    "id": "_J15GlkBHc8y"
   },
   "outputs": [],
   "source": [
    "def division_y_producto(numero_1,numero_2):\n",
    "    '''\n",
    "    Dados dos numeros, devuelve su division\n",
    "    y su producto.\n",
    "    \n",
    "    Arguments:\n",
    "    numero_1 -- dividendo, primer multiplicando\n",
    "    numero_2 -- divisor, segundo multiplicando\n",
    "    \n",
    "    Returns:\n",
    "    div -- la division entre los dos numeros\n",
    "    prod -- el producto entre los dos numeros\n",
    "    '''\n",
    "    \n",
    "    div = numero_1/numero_2\n",
    "    prod = numero_1*numero_2\n",
    "    return div, prod"
   ]
  },
  {
   "cell_type": "markdown",
   "metadata": {
    "colab_type": "text",
    "id": "RmoOUmCjHc84"
   },
   "source": [
    "Notar que si ahora ponemos `help()` de nuestra función, devuelve la documentación que creamos."
   ]
  },
  {
   "cell_type": "code",
   "execution_count": 20,
   "metadata": {
    "colab": {},
    "colab_type": "code",
    "id": "ujS6lh9nHc84"
   },
   "outputs": [
    {
     "name": "stdout",
     "output_type": "stream",
     "text": [
      "Help on function division_y_producto in module __main__:\n",
      "\n",
      "division_y_producto(numero_1, numero_2)\n",
      "    Dados dos numeros, devuelve su division\n",
      "    y su producto.\n",
      "    \n",
      "    Arguments:\n",
      "    numero_1 -- dividendo, primer multiplicando\n",
      "    numero_2 -- divisor, segundo multiplicando\n",
      "    \n",
      "    Returns:\n",
      "    div -- la division entre los dos numeros\n",
      "    prod -- el producto entre los dos numeros\n",
      "\n"
     ]
    }
   ],
   "source": [
    "help(division_y_producto)"
   ]
  },
  {
   "cell_type": "markdown",
   "metadata": {
    "colab_type": "text",
    "id": "dMwt6RmgHc89"
   },
   "source": [
    "También, si usamos `shift`+`tab` como hacemos con las otras funciones de las librerías.\n",
    "\n",
    "### Challenge\n",
    "\n",
    "1. Crea una función que tome como entrada dos arreglos de Numpy. Luego, que chequee si tienen el mismo tamaño; si no es así, que imprima un mensaje indicando que no tienen el mismo tamaño. Si tienen el mismo tamaño, que haga las siguientes operaciones:\n",
    "    1. Crear un nuevo arreglo con el resultado de las resta de los dos arreglos originales.\n",
    "    1. Elevar al cuadrado ese arreglo.\n",
    "    1. Sumar todos los elementos y dividir por la cantidad de elementos.\n",
    "    1. Devuelva la raiz de ese resultado."
   ]
  },
  {
   "cell_type": "code",
   "execution_count": 379,
   "metadata": {},
   "outputs": [],
   "source": [
    "def RMSE(arreglo_1, arreglo_2):\n",
    "    if len(arreglo_1) == len(arreglo_2):\n",
    "        resta = arreglo_1 - arreglo_2\n",
    "        cuadrado = resta ** 2\n",
    "        suma = sum (cuadrado)\n",
    "        suma_2 = suma/ len(resta)\n",
    "        raiz = suma_2 ** (1/2)\n",
    "        return (raiz)\n",
    "    else:\n",
    "        print(\"Los arreglos no tienen el mismo tamaño\")  "
   ]
  },
  {
   "cell_type": "markdown",
   "metadata": {
    "colab_type": "text",
    "id": "BJyqnpGaHc9A"
   },
   "source": [
    "Testeamos el resultados"
   ]
  },
  {
   "cell_type": "code",
   "execution_count": 380,
   "metadata": {
    "colab": {},
    "colab_type": "code",
    "id": "-FTFgWOzHc9B"
   },
   "outputs": [
    {
     "name": "stdout",
     "output_type": "stream",
     "text": [
      "[ -1  -6   5 -10   7   6   7  -2  -1 -10   0  -2  -6   9   6  -6   5   1\n",
      "   1  -9  -2  -6   4   7   9   3  -5   3   9   3   2  -9  -6   8   3   1\n",
      "   0  -1   5   8   6  -3   1   7   4  -3   1  -9 -10   2]\n",
      "[ -5  -6  -3   8   2  -8  -2   5   3   5  -4   0   1   6   2 -10   7   5\n",
      "   2  -2   0   3   1  -9   8   3  -2  -1  -5 -10   8  -7   6   8   6   4\n",
      "   9   5   9   7   8   4   6   0   7 -10   7  -1   6  -1]\n"
     ]
    }
   ],
   "source": [
    "np.random.seed(10)  # que hace esta linea?\n",
    "arreglo_1 = np.random.randint(-10,10, 50)\n",
    "arreglo_2 = np.random.randint(-10,10, 50)\n",
    "print(arreglo_1)\n",
    "print(arreglo_2)"
   ]
  },
  {
   "cell_type": "code",
   "execution_count": 381,
   "metadata": {
    "colab": {},
    "colab_type": "code",
    "id": "HKwYfSCRHc9H"
   },
   "outputs": [
    {
     "data": {
      "text/plain": [
       "7.487322618933954"
      ]
     },
     "execution_count": 381,
     "metadata": {},
     "output_type": "execute_result"
    }
   ],
   "source": [
    "RMSE(arreglo_1, arreglo_2)"
   ]
  },
  {
   "cell_type": "markdown",
   "metadata": {
    "colab_type": "text",
    "id": "XcD0itiOHc9L"
   },
   "source": [
    "Debería dar como resultado 7.48732"
   ]
  },
  {
   "cell_type": "code",
   "execution_count": 382,
   "metadata": {
    "colab": {},
    "colab_type": "code",
    "id": "ANjYrfruHc9M"
   },
   "outputs": [
    {
     "name": "stdout",
     "output_type": "stream",
     "text": [
      "[ -1  -6   5 -10   7   6   7  -2  -1 -10   0  -2  -6   9   6  -6   5   1\n",
      "   1  -9  -2  -6   4   7   9]\n",
      "[  3  -5   3   9   3   2  -9  -6   8   3   1   0  -1   5   8   6  -3   1\n",
      "   7   4  -3   1  -9 -10   2  -5  -6  -3   8   2  -8  -2   5   3   5  -4\n",
      "   0   1   6   2 -10   7   5   2  -2   0   3   1  -9   8]\n"
     ]
    }
   ],
   "source": [
    "np.random.seed(10)  # que hace esta linea?\n",
    "arreglo_1 = np.random.randint(-10,10, 25)\n",
    "arreglo_2 = np.random.randint(-10,10, 50)\n",
    "print(arreglo_1)\n",
    "print(arreglo_2)"
   ]
  },
  {
   "cell_type": "code",
   "execution_count": 383,
   "metadata": {
    "colab": {},
    "colab_type": "code",
    "id": "jmNj3wosHc9O"
   },
   "outputs": [
    {
     "name": "stdout",
     "output_type": "stream",
     "text": [
      "Los arreglos no tienen el mismo tamaño\n"
     ]
    }
   ],
   "source": [
    "RMSE(arreglo_1, arreglo_2)"
   ]
  },
  {
   "cell_type": "markdown",
   "metadata": {
    "colab_type": "text",
    "id": "ZOu1AMPAHc9R"
   },
   "source": [
    "Debería dar como resultado un mensaje indicando que no tienen el mismo tamaño."
   ]
  },
  {
   "cell_type": "markdown",
   "metadata": {
    "colab_type": "text",
    "id": "NFiCHkvDHc9S"
   },
   "source": [
    "2. Documentar brevemente la función creada."
   ]
  },
  {
   "cell_type": "code",
   "execution_count": 384,
   "metadata": {},
   "outputs": [],
   "source": [
    "def RMSE(arreglo_1, arreglo_2):\n",
    "    '''\n",
    "    Dados dos arreglos, crea un nuevo arreglo con el resultado\n",
    "    de las resta de los dos arreglos originales, eleva al cuadrado ese arreglo,\n",
    "    suma todos los elementos y divide por la cantidad de elementos.\n",
    "    Devuelva la raiz de ese resultado. \n",
    "    \n",
    "    Arguments:\n",
    "    arreglo_1 -- primer arreglo\n",
    "    arreglo_2 -- segundo arreglo\n",
    "    \n",
    "    Returns:\n",
    "    raiz -- resultado\n",
    "    '''\n",
    "    if len(arreglo_1) == len(arreglo_2):\n",
    "        resta = arreglo_1 - arreglo_2\n",
    "        cuadrado = resta ** 2\n",
    "        suma = sum (cuadrado)\n",
    "        suma_2 = suma/ len(resta)\n",
    "        raiz = suma_2 ** (1/2)\n",
    "        return (raiz)\n",
    "    else:\n",
    "        print(\"Los arreglos no tienen el mismo tamaño\") "
   ]
  },
  {
   "cell_type": "code",
   "execution_count": 385,
   "metadata": {},
   "outputs": [
    {
     "name": "stdout",
     "output_type": "stream",
     "text": [
      "Help on function RMSE in module __main__:\n",
      "\n",
      "RMSE(arreglo_1, arreglo_2)\n",
      "    Dados dos arreglos, crea un nuevo arreglo con el resultado\n",
      "    de las resta de los dos arreglos originales, eleva al cuadrado ese arreglo,\n",
      "    suma todos los elementos y divide por la cantidad de elementos.\n",
      "    Devuelva la raiz de ese resultado. \n",
      "    \n",
      "    Arguments:\n",
      "    arreglo_1 -- primer arreglo\n",
      "    arreglo_2 -- segundo arreglo\n",
      "    \n",
      "    Returns:\n",
      "    raiz -- resultado\n",
      "\n"
     ]
    }
   ],
   "source": [
    "help (RMSE)"
   ]
  },
  {
   "cell_type": "markdown",
   "metadata": {
    "colab_type": "text",
    "id": "lV69QeIcHc9S"
   },
   "source": [
    "### 5. Ejercitación - Generala\n",
    "\n",
    "¡Vamos a jugar a la generala! Para los que no la conocen: es un juego de dados. En este juego tienes 3 tiradas y 5 dados para formar distintas combinaciones (escalera, full, etc). Después de cada tiro, puedes decidir cuántos y cuáles dados dejar en la mesa y cuáles volver a tirar. De esta forma, tienes tres tiradas para lograr alguna de las combinaciones. La combinación que más puntos te da es la generala, que se obtiene cuando los 5 dados devuelven el mismo número.\n",
    "\n",
    "El jugador puede tomar decisiones y plantear una estrategia en este juego, pero la última palabra la tiene el azar. Un buen matemático podría calcular las probabilidades de cada combinación, e ir calculando cómo se modifican estas probabilidades a medida que va dejando - o no - dados sobre la mesa.\n",
    "\n",
    "En nuestro caso, lo que haremos es simular una generala simplificada - el único objetivo es obtener la generala, cinco dados iguales. Para ello, programarás una serie de funciones que te ayudarán a jugar a este juego. Con estas funciones, podrás responder varias preguntas, entre ellas:\n",
    "\n",
    "1. ¿Cuán probable es obtener una generala en la primera tirada?\n",
    "1. ¿Cuán probable es obtener una generala con dos tiradas?\n",
    "1. ¿Cuán probable es obtener una generala luego de las tres tiradas?\n",
    "1. ¿Qué es más problable: obtener una generala con tres tiradas y cinco dados o cuatros tiradas y seis dados?\n",
    "\n",
    "y las que se te ocurran. ¡Manos a la obra!\n",
    "\n",
    "**Importante:** todas las funciones que te pedimos definir acá se resuelven en pocas líneas de código. NumPy y Google forman un gran equipo. Nosotros te dejamos casos de testeo para tus funciones. Resuélvelos con un/a compañero/a, recuerda pensar el problema (escribiéndolo en un papel, hablándolo con alguien) y luego programa. ¡Verás que no son tan difíciles!\n",
    "\n",
    "**Importante dos:** este desafío fue propuesto por *Ernesto Mislej* en el grupo de Facebook *Data Science Argentina*.¡Recomendamos unirse a éste o a otro grupo sobre Ciencia de Datos!"
   ]
  },
  {
   "cell_type": "markdown",
   "metadata": {
    "colab_type": "text",
    "id": "jNHruLHfHc9T"
   },
   "source": [
    "1. Crea la función `tirar_n_dados`. Debe tomar como argumento por defecto `n = 5`, pero tiene que funcionar correctamente para otros valores de `n`."
   ]
  },
  {
   "cell_type": "code",
   "execution_count": 391,
   "metadata": {
    "colab": {},
    "colab_type": "code",
    "id": "rBcgkyezHc9T"
   },
   "outputs": [],
   "source": [
    "import numpy as np\n",
    "from numpy import random\n",
    "\n",
    "def tirar_n_dados(n = 5):\n",
    "    return random.randint(6, size = n)"
   ]
  },
  {
   "cell_type": "code",
   "execution_count": 392,
   "metadata": {
    "colab": {},
    "colab_type": "code",
    "id": "cc532HIFHc9X"
   },
   "outputs": [
    {
     "data": {
      "text/plain": [
       "array([5, 0, 1, 1, 5])"
      ]
     },
     "execution_count": 392,
     "metadata": {},
     "output_type": "execute_result"
    }
   ],
   "source": [
    "tirar_n_dados()"
   ]
  },
  {
   "cell_type": "markdown",
   "metadata": {
    "colab_type": "text",
    "id": "ffQDhq68Hc9a"
   },
   "source": [
    "2. Crea la función `es_generala`. Esta función toma como entrada los resultados de `tirar_n_dados` y devuelve `True` si es generala y `False` si no lo es."
   ]
  },
  {
   "cell_type": "code",
   "execution_count": 132,
   "metadata": {
    "colab": {},
    "colab_type": "code",
    "id": "LnaKKFOfHc9b"
   },
   "outputs": [],
   "source": [
    "#def es_generala(result):\n",
    "#   if result[0] == result[1] == result[2] == result[3] == result[4]:\n",
    "#        return True\n",
    "#    else:\n",
    "#        return False"
   ]
  },
  {
   "cell_type": "code",
   "execution_count": 393,
   "metadata": {},
   "outputs": [],
   "source": [
    "# Opción fácil \n",
    "def es_generala(dados):\n",
    "    return len(set(dados)) == 1"
   ]
  },
  {
   "cell_type": "code",
   "execution_count": 394,
   "metadata": {
    "colab": {},
    "colab_type": "code",
    "id": "rlcDUHNyHc9d"
   },
   "outputs": [
    {
     "name": "stdout",
     "output_type": "stream",
     "text": [
      "False\n"
     ]
    }
   ],
   "source": [
    "### TESTEO UNO\n",
    "array_de_prueba = np.array([2,5,5,5,5])\n",
    "print(es_generala(array_de_prueba))"
   ]
  },
  {
   "cell_type": "code",
   "execution_count": 395,
   "metadata": {
    "colab": {},
    "colab_type": "code",
    "id": "ZMLTg_PyHc9f"
   },
   "outputs": [
    {
     "name": "stdout",
     "output_type": "stream",
     "text": [
      "[5 5 5 5 5]\n",
      "[1 1 1 1 1]\n",
      "[5 5 5 5 5]\n",
      "[2 2 2 2 2]\n"
     ]
    }
   ],
   "source": [
    "### TESTEO DOS\n",
    "for _ in range(10000):\n",
    "    tirada_dados = tirar_n_dados(n = 5)\n",
    "    if es_generala(tirada_dados):\n",
    "        print(tirada_dados)"
   ]
  },
  {
   "cell_type": "markdown",
   "metadata": {
    "colab_type": "text",
    "id": "QjcmUBluHc9j"
   },
   "source": [
    "3. Crea una función `seleccionar_mayoria` que, dada una tirada de n dados, devuelve cuál es la moda de los resultados y con qué frecuencia. Dos consideraciones: \n",
    "    * Si los n resultados son distintos, es indistinto cuál valor devuelve.\n",
    "    * Si hay más de un valor posible para devolver - por ejemplo, en la tira `[1, 1, 2, 2, 3]` -, es indistinto cuál valor elige.\n",
    "    \n",
    "    Tal vez te sirva saber que estas consideraciones se resuelven automáticamente si utilizas algunas herramientas de NumPy, como `np.unique()`, `np.argmax()` y alguna más."
   ]
  },
  {
   "cell_type": "code",
   "execution_count": 396,
   "metadata": {
    "colab": {},
    "colab_type": "code",
    "id": "AjgLW9zcHc9k"
   },
   "outputs": [],
   "source": [
    "def seleccionar_mayoria(dados):\n",
    "    valores, frecuencia = np.unique(dados, return_counts = True)\n",
    "    maximo = valores[np.where(frecuencia == max(frecuencia))][0]\n",
    "    return maximo, max(frecuencia)"
   ]
  },
  {
   "cell_type": "code",
   "execution_count": 397,
   "metadata": {
    "colab": {},
    "colab_type": "code",
    "id": "r0mGLzC9Hc9m"
   },
   "outputs": [
    {
     "name": "stdout",
     "output_type": "stream",
     "text": [
      "(1, 3)\n",
      "(1, 1)\n"
     ]
    }
   ],
   "source": [
    "# TESTEO UNO\n",
    "array_de_prueba = np.array([1,1,1,5,5])\n",
    "print(seleccionar_mayoria(array_de_prueba))\n",
    "### Debería dar como resultado (1,3)\n",
    "\n",
    "# TESTEO DOS\n",
    "array_de_prueba = np.array([5,3,2,1,6])\n",
    "print(seleccionar_mayoria(array_de_prueba))\n",
    "### Debería dar como resultado (algun numero salvo el 4,1)"
   ]
  },
  {
   "cell_type": "markdown",
   "metadata": {
    "colab_type": "text",
    "id": "nQ2zx668Hc9q"
   },
   "source": [
    "Acá la cosa se empieza a poner áspera, pero tampoco tanto. Veamos algunas situaciones:\n",
    "\n",
    "* Supongamos que en una primera tirada obtienes como resultado `[1, 1, 2, 5, 3]`. En ese caso, te debes quedar con los dados `[1, 1]` y volver a tirar los otros tres dados. Si cuando tiras los tres dados obtienes tres valores iguales **distintos** de los que habías reservado, la mejor estrategia es quedarte con esos tres dados y volver a tirar los otros dos. \n",
    "* Supongamos que en una primera tirada obtienes como resultado `[1, 1, 2, 5, 3]`. En ese caso, te debes quedar con los dados `[1, 1]` y volver a tirar los otros tres dados. Si cuando tiras los tres dados obtienes `[1, 1, 5]` debes poder sumar a los dados que apartaste esos dos `1`.\n",
    "\n",
    "Entonces:\n",
    "\n",
    "\n",
    "4. Crea una función `jugar` tome como argumentos `n_tiradas` con argumento por defecto `3` y `dados_total` con argumento por defecto `5` y que, utilizando las funciones que definiste antes, juegue a la generala. La función debe devolver un arreglo con las n-tiradas realizadas y un índice indicando en qué tirada logró la generala si corresponde (si no logra la generala, debe devolver un valor que indique que no se logró la generala, ¿cuál se te ocurre?). \n",
    "    \n",
    "    Te vamos a dejar un esqueleto bastante armado para esta función, pero si quieres arrancar desde cero, obviamente puedes hacerlo. Para completarlo, ten en cuenta que luego de cada tirada debes dejar algunos dados en la mesa, `dados_mesa`, y volver a tirar otros, `dados_nuevos`. La cantidad de dados nuevos que debes tirar se decide dinámicamente en cada ciclo del loop. Cuando decides qué dados deben quedar sobre la mesa, debes mirar tanto los dados que ya estaban sobre la mesa como los que acabas de tirar, `todos_dados`."
   ]
  },
  {
   "cell_type": "code",
   "execution_count": 403,
   "metadata": {
    "colab": {},
    "colab_type": "code",
    "id": "GMP9QwGCHc9r"
   },
   "outputs": [],
   "source": [
    "def jugar(n_tiradas = 3, dados_total= 5):\n",
    "    # Numero de dados a tirar inicialmente\n",
    "    n_dados = dados_total \n",
    "    \n",
    "    # Dados en la mesa inicialmente\n",
    "    dados_mesa = np.array([]) \n",
    "    \n",
    "    # Donde guardamos las tiradas\n",
    "    tiradas = {} \n",
    "    \n",
    "    # Numero de tirada exitosa, en la que se logra la generala\n",
    "    # Inicializar en un valor que indique que NO se obtuvo generala.\n",
    "    # Si luego se obtiene una generala, se modificará\n",
    "    tirada_exitosa = -1\n",
    "    \n",
    "    # Contamos cuantas tiradas hicimos hasta ahora\n",
    "    contador_tiradas = 0\n",
    "    \n",
    "    while (contador_tiradas < n_tiradas) and tirada_exitosa == -1:\n",
    "        # Tiramos los dados\n",
    "        dados_nuevos = tirar_n_dados(n = n_dados)\n",
    "        \n",
    "        # Combinamos los dados recien tirados con los que ya estan en la mesa\n",
    "        todos_dados = np.concatenate((dados_mesa, dados_nuevos))\n",
    "        \n",
    "        # Guardamos tirada\n",
    "        tiradas[contador_tiradas] = dados_nuevos\n",
    "        \n",
    "        # Nos fijamos si es generala\n",
    "        if es_generala(todos_dados):\n",
    "            # Si es, modificamos el valor de tirada exitosa.\n",
    "            # Esto debe cortar el loop.\n",
    "            tirada_exitosa = 0\n",
    "        else:\n",
    "            # Si no es generala, sigue tirando \n",
    "            # Se fija qué dados debe dejar en la mesa\n",
    "            maximo, frecuencia = seleccionar_mayoria(todos_dados)\n",
    "            dados_mesa = np.repeat(maximo, frecuencia)\n",
    "            \n",
    "            # Calcula cuántos dados volver a tirar\n",
    "            n_dados = 5 - len(dados_mesa)\n",
    "        \n",
    "        # Suma al contador de tiradas\n",
    "        contador_tiradas = contador_tiradas + 1\n",
    "    return tiradas, tirada_exitosa"
   ]
  },
  {
   "cell_type": "code",
   "execution_count": 404,
   "metadata": {
    "colab": {},
    "colab_type": "code",
    "id": "2s9DiJDeHc9t"
   },
   "outputs": [
    {
     "name": "stdout",
     "output_type": "stream",
     "text": [
      "{0: array([1, 4, 1, 1, 1]), 1: array([5]), 2: array([1])} 0\n",
      "{0: array([2, 0, 0, 0, 2]), 1: array([3, 0]), 2: array([0])} 0\n",
      "{0: array([3, 0, 3, 1, 3]), 1: array([2, 3]), 2: array([3])} 0\n",
      "{0: array([2, 1, 1, 4, 5]), 1: array([5, 1, 1]), 2: array([1])} 0\n",
      "{0: array([2, 3, 2, 1, 0]), 1: array([5, 3, 2]), 2: array([2, 2])} 0\n",
      "{0: array([0, 2, 3, 5, 4]), 1: array([0, 5, 0, 1]), 2: array([0, 0])} 0\n"
     ]
    }
   ],
   "source": [
    "# TESTEO\n",
    "for i in range(200):\n",
    "    tiradas, tirada_exitosa = jugar(3, 5)\n",
    "    if tirada_exitosa >=0:\n",
    "        print(tiradas, tirada_exitosa)"
   ]
  },
  {
   "cell_type": "markdown",
   "metadata": {
    "colab_type": "text",
    "id": "sHumA7smHc9w"
   },
   "source": [
    "¿Estás contento/a con el código?¿Está bien hecho?¿Se te ocurre alguna situación que no haya sido considerada o donde pueda fallar? Siempre es importante ser crítico con el código desarrollado (y con la metodología en general) en busca de puntos débiles. Siempre se puede programar mejor. De hecho, hay un montón de buenas costumbres cuando programamos funciones que hemos dejado de lado, como por ejemplo, chequear que a nuestra funciones les lleguen los argumentos correctos. Por ejemplo, si nuestra función debe recibir como argumento un arreglo de NumPy de cierto shape, no está demás chequearlo.\n",
    "\n",
    "Ahora sí, es hora de jugar con estas funciones. Elije algunas de las preguntas e intenta responderla, o genera alguna propia y fíjate si lo que hicimos te sirve para responderla. Nosotros elegimos responder qué generala es más probable, si tres tiros y cinco dados o cuatro tiros y seis dados, que te la daremos junto con el resuelto de este notebook."
   ]
  }
 ],
 "metadata": {
  "colab": {
   "name": "DS_Bitácora_09_Funciones.ipynb",
   "provenance": []
  },
  "kernelspec": {
   "display_name": "Python 3",
   "language": "python",
   "name": "python3"
  },
  "language_info": {
   "codemirror_mode": {
    "name": "ipython",
    "version": 3
   },
   "file_extension": ".py",
   "mimetype": "text/x-python",
   "name": "python",
   "nbconvert_exporter": "python",
   "pygments_lexer": "ipython3",
   "version": "3.8.5"
  }
 },
 "nbformat": 4,
 "nbformat_minor": 4
}
